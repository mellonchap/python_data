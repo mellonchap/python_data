{
 "cells": [
  {
   "cell_type": "markdown",
   "id": "bd2d669b",
   "metadata": {},
   "source": [
    "# 1장-집합과 함수"
   ]
  },
  {
   "cell_type": "markdown",
   "id": "525265dc",
   "metadata": {},
   "source": [
    "## 1.1 집합"
   ]
  },
  {
   "cell_type": "markdown",
   "id": "cf8665d3",
   "metadata": {},
   "source": [
    "### 1. 집합의 의미"
   ]
  },
  {
   "cell_type": "markdown",
   "id": "91d2ebba",
   "metadata": {},
   "source": [
    "### 파이썬에서의 집합(set) 자료형\n",
    "- ① 집합 자료는 키만 모아 놓은 딕셔너리의 특수한 형태\n",
    "- ② 딕셔너리의 키는 중복되면 안 되므로 세트에 들어 있는 값은 항상 유일\n",
    "- ③ 중복된 키는 자동으로 하나만 남음\n"
   ]
  },
  {
   "cell_type": "code",
   "execution_count": 84,
   "id": "54183759",
   "metadata": {},
   "outputs": [],
   "source": [
    "# 파이썬에서 여러 데이터를 담을 수 있는 자료형\n",
    "\n",
    "l = list()\n",
    "t = tuple()\n",
    "d = dict()  \n",
    "s = set()"
   ]
  },
  {
   "cell_type": "markdown",
   "id": "7307a011",
   "metadata": {},
   "source": [
    "### 집합의 정의와 사용"
   ]
  },
  {
   "cell_type": "code",
   "execution_count": 85,
   "id": "18c811ff",
   "metadata": {},
   "outputs": [
    {
     "name": "stdout",
     "output_type": "stream",
     "text": [
      "<class 'set'>\n",
      "<class 'set'>\n"
     ]
    }
   ],
   "source": [
    "mySet = set()      # 공집합\n",
    "print(type(mySet))\n",
    "\n",
    "mySet = {1,2,3,4,5}\n",
    "print(type(mySet))"
   ]
  },
  {
   "cell_type": "code",
   "execution_count": 86,
   "id": "5ff86a1c",
   "metadata": {},
   "outputs": [
    {
     "name": "stdout",
     "output_type": "stream",
     "text": [
      "{1, 2, 3, 4}\n"
     ]
    }
   ],
   "source": [
    "mySet = {1,2,2,3,3,4,4,4,}\n",
    "print(mySet)"
   ]
  },
  {
   "cell_type": "code",
   "execution_count": 87,
   "id": "34000df1",
   "metadata": {},
   "outputs": [
    {
     "name": "stdout",
     "output_type": "stream",
     "text": [
      "{1, 2, 3, 4, 5}\n",
      "5\n"
     ]
    }
   ],
   "source": [
    "mySet = {1,2,2,3,4,3,4,5}\n",
    "print(mySet)\n",
    "print(len(mySet))  # 길이"
   ]
  },
  {
   "cell_type": "code",
   "execution_count": 88,
   "id": "1dbb8cde",
   "metadata": {},
   "outputs": [
    {
     "name": "stdout",
     "output_type": "stream",
     "text": [
      "길이=3, 원소={'포도', '사과', '오렌지'}\n"
     ]
    }
   ],
   "source": [
    "mySet = {'사과','포도','오렌지','포도','포도'}\n",
    "print(f'길이={len(mySet)}, 원소={mySet}')"
   ]
  },
  {
   "cell_type": "code",
   "execution_count": 89,
   "id": "28004c91",
   "metadata": {
    "scrolled": true
   },
   "outputs": [
    {
     "name": "stdout",
     "output_type": "stream",
     "text": [
      "길이=5, 원소=['사과', '포도', '오렌지', '포도', '포도']\n",
      "{'포도', '사과', '오렌지'}\n"
     ]
    }
   ],
   "source": [
    "myList = ['사과','포도','오렌지','포도','포도']\n",
    "print(f'길이={len(myList)}, 원소={myList}')\n",
    "print(set(myList))"
   ]
  },
  {
   "cell_type": "code",
   "execution_count": 90,
   "id": "2ad184ed",
   "metadata": {
    "scrolled": true
   },
   "outputs": [
    {
     "name": "stdout",
     "output_type": "stream",
     "text": [
      "{'H', 'e', 'o', 'l'}\n"
     ]
    }
   ],
   "source": [
    "mySet = set('Hello')\n",
    "print(mySet)"
   ]
  },
  {
   "cell_type": "markdown",
   "id": "89c3e9b6",
   "metadata": {},
   "source": [
    "### 부분집합( ⊂ ) 확인 "
   ]
  },
  {
   "cell_type": "code",
   "execution_count": 91,
   "id": "1bbecab9",
   "metadata": {},
   "outputs": [
    {
     "name": "stdout",
     "output_type": "stream",
     "text": [
      "False\n",
      "True\n",
      "True\n",
      "True\n"
     ]
    }
   ],
   "source": [
    "A = {2, 4, 6, 8, 10}\n",
    "B = {1, 2, 3, 4, 5}\n",
    "C = {2, 4, 8}\n",
    "D = set()    # 공집합\n",
    "\n",
    "print(B.issubset(A))   # B ⊂ A 부분집합 확인 함수 issubset()\n",
    "print(C.issubset(A))   # C ⊂ A \n",
    "print(D.issubset(A))   # D ⊂ A 공집합도 부분집합\n",
    "print(A.issubset(A))   # A ⊂ A 자기 자신도 부분집합"
   ]
  },
  {
   "cell_type": "markdown",
   "id": "d9dd051a",
   "metadata": {},
   "source": [
    "------------------------------------------"
   ]
  },
  {
   "cell_type": "markdown",
   "id": "9b6a04ea",
   "metadata": {},
   "source": [
    "### 2. 여러 가지 집합"
   ]
  },
  {
   "cell_type": "markdown",
   "id": "d2d71e27",
   "metadata": {},
   "source": [
    "### 2-1. 교집합 : &, intersection()"
   ]
  },
  {
   "cell_type": "markdown",
   "id": "5c082689",
   "metadata": {},
   "source": [
    "#### 리스트만 이용해서 교집합 만들기"
   ]
  },
  {
   "cell_type": "code",
   "execution_count": 92,
   "id": "7742dbae",
   "metadata": {},
   "outputs": [
    {
     "name": "stdout",
     "output_type": "stream",
     "text": [
      "{2, 4}\n"
     ]
    }
   ],
   "source": [
    "A = [2, 4, 6, 8, 10]\n",
    "B = [1, 2, 3, 4, 5]\n",
    "S  = []\n",
    " \n",
    "for element in A:\n",
    "    if element in B:\n",
    "        S.append(element)\n",
    "\n",
    "print(set(S))"
   ]
  },
  {
   "cell_type": "markdown",
   "id": "f8c80d30",
   "metadata": {},
   "source": [
    "#### 집합 함수 이용해서 교집합 만들기"
   ]
  },
  {
   "cell_type": "code",
   "execution_count": 93,
   "id": "56c123ad",
   "metadata": {},
   "outputs": [
    {
     "name": "stdout",
     "output_type": "stream",
     "text": [
      "{2, 4}\n",
      "{2, 4}\n"
     ]
    }
   ],
   "source": [
    "A = {2, 4, 6, 8, 10}\n",
    "B = {1, 2, 3, 4, 5}\n",
    "\n",
    "print(A & B)             # A, B의 순서는 상관 없다.\n",
    "print(A.intersection(B))"
   ]
  },
  {
   "cell_type": "markdown",
   "id": "759420f4",
   "metadata": {},
   "source": [
    "### 2-2. 합집합 : |, union()"
   ]
  },
  {
   "cell_type": "markdown",
   "id": "638e8b2b",
   "metadata": {},
   "source": [
    "#### 리스트만 이용해서 합집합 만들기"
   ]
  },
  {
   "cell_type": "code",
   "execution_count": 94,
   "id": "b394323f",
   "metadata": {},
   "outputs": [
    {
     "name": "stdout",
     "output_type": "stream",
     "text": [
      "{1, 2, 3, 4, 5, 6, 8, 10}\n"
     ]
    }
   ],
   "source": [
    "A = [2, 4, 6, 8, 10]\n",
    "B = [1, 2, 3, 4, 5]\n",
    "S = []\n",
    "\n",
    "print(set(A + B))"
   ]
  },
  {
   "cell_type": "markdown",
   "id": "0c30997a",
   "metadata": {},
   "source": [
    "#### 집합 함수 이용해서 합집합 만들기"
   ]
  },
  {
   "cell_type": "code",
   "execution_count": 95,
   "id": "73c5bda2",
   "metadata": {},
   "outputs": [
    {
     "name": "stdout",
     "output_type": "stream",
     "text": [
      "{1, 2, 3, 4, 5, 6, 8, 10}\n",
      "{1, 2, 3, 4, 5, 6, 8, 10}\n",
      "{1, 2, 3, 4, 5, 6, 8, 10}\n"
     ]
    }
   ],
   "source": [
    "A = {2, 4, 6, 8, 10}\n",
    "B = {1, 2, 3, 4, 5}\n",
    "\n",
    "print(A | B)       # A.union(B) 으로 대체 가능 (A, B의 순서는 상관 없다.)\n",
    "print(A.union(B))\n",
    "print(B.union(A))"
   ]
  },
  {
   "cell_type": "markdown",
   "id": "61def58b",
   "metadata": {},
   "source": [
    "### 2-3. 차집합 : -, difference()"
   ]
  },
  {
   "cell_type": "markdown",
   "id": "c6a62f2c",
   "metadata": {},
   "source": [
    "#### 리스트만 이용해서 차집합 만들기"
   ]
  },
  {
   "cell_type": "code",
   "execution_count": 96,
   "id": "33c1814c",
   "metadata": {},
   "outputs": [
    {
     "name": "stdout",
     "output_type": "stream",
     "text": [
      "{8, 10, 6}\n"
     ]
    }
   ],
   "source": [
    "A = [2, 4, 6, 8, 10]\n",
    "B = [1, 2, 3, 4, 5]\n",
    "S  = []\n",
    " \n",
    "for element in A:\n",
    "    if element not in B:\n",
    "        S.append(element)\n",
    "\n",
    "print(set(S))"
   ]
  },
  {
   "cell_type": "markdown",
   "id": "afc134a8",
   "metadata": {},
   "source": [
    "#### 집합 함수 이용해서 차집합 만들기"
   ]
  },
  {
   "cell_type": "code",
   "execution_count": 97,
   "id": "79240a71",
   "metadata": {},
   "outputs": [
    {
     "name": "stdout",
     "output_type": "stream",
     "text": [
      "{8, 10, 6}\n",
      "{8, 10, 6}\n",
      "{1, 3, 5}\n",
      "{1, 3, 5}\n"
     ]
    }
   ],
   "source": [
    "A = {2, 4, 6, 8, 10}\n",
    "B = {1, 2, 3, 4, 5}\n",
    "\n",
    "print(A - B) # A.difference(B) 으로 대체 가능\n",
    "print(A.difference(B)) \n",
    "\n",
    "print(B - A) # B.difference(A) 으로 대체 가능\n",
    "print(B.difference(A)) "
   ]
  },
  {
   "cell_type": "markdown",
   "id": "58ab7dba",
   "metadata": {},
   "source": [
    "### 2-4. 여집합"
   ]
  },
  {
   "cell_type": "markdown",
   "id": "4f6921df",
   "metadata": {},
   "source": [
    "#### 리스트를 이용해서 A의 여집합 구하기"
   ]
  },
  {
   "cell_type": "code",
   "execution_count": 98,
   "id": "2c8df5a4",
   "metadata": {},
   "outputs": [
    {
     "name": "stdout",
     "output_type": "stream",
     "text": [
      "{1, 3, 5, 7, 9}\n"
     ]
    }
   ],
   "source": [
    "U = [1, 2, 3, 4, 5, 6, 7, 8, 9, 10]\n",
    "A = [2, 4, 6, 8, 10]\n",
    "S = []\n",
    "\n",
    "for element in U:\n",
    "    if element not in A:\n",
    "        S.append(element)       \n",
    "\n",
    "print(set(S))"
   ]
  },
  {
   "cell_type": "markdown",
   "id": "382883dc",
   "metadata": {},
   "source": [
    "#### 집합 함수 이용해서 A의 여집합 만들기"
   ]
  },
  {
   "cell_type": "code",
   "execution_count": 99,
   "id": "42c107db",
   "metadata": {},
   "outputs": [
    {
     "name": "stdout",
     "output_type": "stream",
     "text": [
      "{1, 3, 5, 7, 9}\n",
      "{1, 3, 5, 7, 9}\n"
     ]
    }
   ],
   "source": [
    "U = {1, 2, 3, 4, 5, 6, 7, 8, 9, 10}\n",
    "A = {2, 4, 6, 8, 10}\n",
    "\n",
    "print(U.difference(A))\n",
    "print(U ^ A)"
   ]
  },
  {
   "cell_type": "markdown",
   "id": "d10a39f3",
   "metadata": {},
   "source": [
    "### [실습] 예제1-2 집합 구하기\n",
    "전체집합이 U = {x|x는 자연수, x<=10}일 때, 두 집합 A={1,3,5,7}과 B={3,4,5,6}에 대해 다음 집합을 구하라.\n",
    "- a. $A ∩ B$ \n",
    "- b. $A ∪ B$\n",
    "- c. $A - B$\n",
    "- d. $A ∩ B^c$ "
   ]
  },
  {
   "cell_type": "code",
   "execution_count": 100,
   "id": "79ae28bb",
   "metadata": {
    "scrolled": false
   },
   "outputs": [
    {
     "name": "stdout",
     "output_type": "stream",
     "text": [
      "{3, 5}\n",
      "{3, 5}\n",
      "{1, 3, 4, 5, 6, 7}\n",
      "{1, 3, 4, 5, 6, 7}\n",
      "{1, 7}\n",
      "{1, 7}\n",
      "{1, 7}\n",
      "{1, 7}\n",
      "{1, 7}\n"
     ]
    }
   ],
   "source": [
    "U = set(list(range(1,11)))\n",
    "A = {1,3,5,7}\n",
    "B = {3,4,5,6}\n",
    "\n",
    "# a. A ∩ B \n",
    "print(A & B)\n",
    "print(A.intersection(B))\n",
    "\n",
    "# b. A ∪ B\n",
    "print(A | B)\n",
    "print(A.union(B))\n",
    "\n",
    "# c. A - B\n",
    "print(A - B)\n",
    "print(A.difference(B))\n",
    "\n",
    "# d. A ∩ Bc \n",
    "print(A & (U - B))\n",
    "print(A & (U ^ B))\n",
    "print(A.intersection(U.difference(B)))"
   ]
  },
  {
   "cell_type": "markdown",
   "id": "7bbcb40d",
   "metadata": {},
   "source": [
    "### 3. 집합의 성질"
   ]
  },
  {
   "cell_type": "markdown",
   "id": "31389a68",
   "metadata": {},
   "source": [
    "### [실습] 예제1-3 집합의 성질\n",
    "전체집합이 U = {x|x는 자연수, x<=10}에 대해 부분집합 A, B, C를 다음과 같이 정의한다. \n",
    "A={x|x는 홀수}, B={x|x는 소수}, C={x|x는 3의 배수}\n",
    "다음 집합을 구하라.\n",
    "- a. $(A ∩ B) ∪ C $\n",
    "- b. $(A ∪ C) ∩ (B ∪ C)$\n",
    "- c. $(A ∪ B) ∩ C $\n",
    "- d. $(A ∩ C) ∪ (B ∩ C) $"
   ]
  },
  {
   "cell_type": "code",
   "execution_count": null,
   "id": "7cd60f44",
   "metadata": {},
   "outputs": [],
   "source": [
    "!pip install sympy"
   ]
  },
  {
   "cell_type": "code",
   "execution_count": 101,
   "id": "6b28d551",
   "metadata": {
    "scrolled": true
   },
   "outputs": [
    {
     "name": "stdout",
     "output_type": "stream",
     "text": [
      "{1, 3, 5, 7, 9}\n",
      "{2, 3, 5, 7}\n",
      "{9, 3, 6}\n",
      "(A ∩ B) ∪ C       = {3, 5, 6, 7, 9}\n",
      "(A ∪ C) ∩ (B ∪ C)= {3, 5, 6, 7, 9}\n",
      "(A ∪ B) ∩ C       = {9, 3}\n",
      "(A ∩ C) ∪ (B ∩ C) = {9, 3}\n"
     ]
    }
   ],
   "source": [
    "import sympy\n",
    "\n",
    "U = set(list(range(1,11)))\n",
    "A = set([x for x in U if x%2!=0])  \n",
    "B = set([x for x in U if sympy.isprime(x)]) \n",
    "C = set([x for x in U if x%3==0])\n",
    "\n",
    "print(A)\n",
    "print(B)\n",
    "print(C)\n",
    "\n",
    "print(f'(A ∩ B) ∪ C       = {(A & B) | C}')\n",
    "print(f'(A ∪ C) ∩ (B ∪ C)= {(A | C) & (B | C)}')\n",
    "print(f'(A ∪ B) ∩ C       = {(A | B) &  C}')\n",
    "print(f'(A ∩ C) ∪ (B ∩ C) = {(A & C) | (B & C)}')"
   ]
  },
  {
   "cell_type": "markdown",
   "id": "ce659944",
   "metadata": {},
   "source": [
    "#### [소수(prime number) 판별 알고리즘]"
   ]
  },
  {
   "cell_type": "code",
   "execution_count": 11,
   "id": "09dba016",
   "metadata": {},
   "outputs": [
    {
     "name": "stdout",
     "output_type": "stream",
     "text": [
      "1 is not a prime number\n",
      "2 is a prime number\n",
      "5 is a prime number\n",
      "6 is not a prime number\n",
      "7 is a prime number\n",
      "8 is not a prime number\n",
      "9 is not a prime number\n"
     ]
    }
   ],
   "source": [
    "def is_prime_number(x):\n",
    "    # 1 not being a prime number, is ignored\n",
    "    if x > 1:\n",
    "        for i in range(2, x):\n",
    "            if (x % i) == 0:\n",
    "                print(f\"{x} is not a prime number\")\n",
    "                return\n",
    "        print(f\"{x} is a prime number\")\n",
    "    else:\n",
    "         print(f\"{x} is not a prime number\")\n",
    "        \n",
    "X = {1, 2, 5, 6, 7, 8, 9}\n",
    "for x in X:\n",
    "    is_prime_number(x)\n"
   ]
  },
  {
   "cell_type": "code",
   "execution_count": 12,
   "id": "e428c8be",
   "metadata": {},
   "outputs": [
    {
     "name": "stdout",
     "output_type": "stream",
     "text": [
      "1 is not a prime number\n",
      "2 is a prime number\n",
      "5 is a prime number\n",
      "6 is not a prime number\n",
      "7 is a prime number\n",
      "8 is not a prime number\n",
      "9 is not a prime number\n"
     ]
    }
   ],
   "source": [
    "import math\n",
    "\n",
    "def is_prime_number(x):\n",
    "    # 1 not being a prime number, is ignored\n",
    "    if x > 1:\n",
    "        for i in range(2, int(math.sqrt(x)+1)):\n",
    "            if (x % i) == 0:\n",
    "                print(f\"{x} is not a prime number\")\n",
    "                return\n",
    "        print(f\"{x} is a prime number\")\n",
    "    else:\n",
    "         print(f\"{x} is not a prime number\")\n",
    "        \n",
    "X = {1, 2, 5, 6, 7, 8, 9}\n",
    "for x in X:\n",
    "    is_prime_number(x)"
   ]
  },
  {
   "cell_type": "markdown",
   "id": "60004525",
   "metadata": {},
   "source": [
    "### 집합에 요소 추가하기"
   ]
  },
  {
   "cell_type": "code",
   "execution_count": 103,
   "id": "a1b5890b",
   "metadata": {},
   "outputs": [
    {
     "name": "stdout",
     "output_type": "stream",
     "text": [
      "요소 한개 추가: add\n",
      "{1, 3, 5, 7, 9}\n"
     ]
    }
   ],
   "source": [
    "A = {1,3,5,7}\n",
    "\n",
    "# 요소 한개 추가하기\n",
    "print('요소 한개 추가: add')\n",
    "A.add(9)\n",
    "\n",
    "print(A)"
   ]
  },
  {
   "cell_type": "code",
   "execution_count": 104,
   "id": "692f0501",
   "metadata": {},
   "outputs": [
    {
     "name": "stdout",
     "output_type": "stream",
     "text": [
      "요소 여러개 추가:update\n",
      "{1, 3, 5, 7, 9, 11, 13}\n"
     ]
    }
   ],
   "source": [
    "A = {1,3,5,7}\n",
    "\n",
    "# 요소 여러 개 추가하기\n",
    "print('요소 여러개 추가:update')\n",
    "\n",
    "A.update([9,11,13])\n",
    "print(A)"
   ]
  },
  {
   "cell_type": "markdown",
   "id": "eb2734c4",
   "metadata": {},
   "source": [
    "### 집합에서 요소 삭제하기"
   ]
  },
  {
   "cell_type": "code",
   "execution_count": 105,
   "id": "3587c46c",
   "metadata": {
    "scrolled": true
   },
   "outputs": [
    {
     "name": "stdout",
     "output_type": "stream",
     "text": [
      "요소 한개 제거: remove\n",
      "{1, 3, 7}\n"
     ]
    }
   ],
   "source": [
    "A = {1,3,5,7}\n",
    "\n",
    "print('요소 한개 제거: remove')\n",
    "A.remove(5)  # 5 제거하기\n",
    "\n",
    "print(A)"
   ]
  },
  {
   "cell_type": "markdown",
   "id": "81e1549a",
   "metadata": {},
   "source": [
    "--------"
   ]
  },
  {
   "cell_type": "markdown",
   "id": "d6afd509",
   "metadata": {},
   "source": [
    "## 1.2 함수"
   ]
  },
  {
   "cell_type": "markdown",
   "id": "bc29263f",
   "metadata": {},
   "source": [
    "### 그래프 라이브러리 설치"
   ]
  },
  {
   "cell_type": "code",
   "execution_count": null,
   "id": "19e5a0ad",
   "metadata": {},
   "outputs": [],
   "source": [
    "!pip install matplotlib"
   ]
  },
  {
   "cell_type": "markdown",
   "id": "8a938015",
   "metadata": {},
   "source": [
    "### 일차함수(linear function)\n",
    "일차 함수 그래프로 표현하기"
   ]
  },
  {
   "cell_type": "code",
   "execution_count": null,
   "id": "e95ebd7f",
   "metadata": {},
   "outputs": [],
   "source": [
    "!pip install matplotlib"
   ]
  },
  {
   "cell_type": "code",
   "execution_count": 109,
   "id": "1dc9b517",
   "metadata": {},
   "outputs": [
    {
     "name": "stdout",
     "output_type": "stream",
     "text": [
      "Enter the coefficient of x: 2\n",
      "Enter the constant: 2\n"
     ]
    },
    {
     "data": {
      "image/png": "[encoded data removed]",
      "text/plain": [
       "<Figure size 432x288 with 1 Axes>"
      ]
     },
     "metadata": {
      "needs_background": "light"
     },
     "output_type": "display_data"
    }
   ],
   "source": [
    "import matplotlib.pyplot as plt\n",
    "\n",
    "\n",
    "def draw_linear_graph(a=1, b=1):    \n",
    "    X = list(range(-5,5,1))     # X축 값\n",
    "    Y = [(a*x + b) for x in X] # Y축 값\n",
    "    \n",
    "    plt.plot(X, Y)        # 선 그래프 그리기\n",
    "    plt.grid()            # grid표시\n",
    "    plt.xlabel('X-axis')  # X축 이름\n",
    "    plt.ylabel('Y-axis')  # Y축 이름\n",
    "    title = f'Linear equation graph: y={str(a)}x+{str(b)}'\n",
    "    plt.title(title)\n",
    "    #pl.savefig('Linear_graph_1.png')\n",
    "\n",
    "\n",
    "# y = ax + b\n",
    "a = int(input('Enter the coefficient of x: '))\n",
    "b = int(input('Enter the constant: '))\n",
    "\n",
    "draw_linear_graph(a, b)"
   ]
  },
  {
   "cell_type": "markdown",
   "id": "166c4fb6",
   "metadata": {},
   "source": [
    "### 이차함수(quadratic function)"
   ]
  },
  {
   "cell_type": "code",
   "execution_count": 107,
   "id": "c390c1f0",
   "metadata": {},
   "outputs": [
    {
     "data": {
      "image/png": "[encoded data removed]",
      "text/plain": [
       "<Figure size 432x288 with 1 Axes>"
      ]
     },
     "metadata": {
      "needs_background": "light"
     },
     "output_type": "display_data"
    }
   ],
   "source": [
    "import matplotlib.pyplot as plt\n",
    "import numpy as np\n",
    "\n",
    "def f(x):\n",
    "    return x ** 2\n",
    "\n",
    "x = [-1,0,1]\n",
    "x = np.linspace(-1, 1, 10)\n",
    "\n",
    "plt.plot(x, f(x), 'ro-', label=\"y=f(x)=x^2\")   \n",
    "plt.xlabel(\"x\")\n",
    "plt.ylabel(\"y\")\n",
    "plt.grid()\n",
    "plt.title(\"function graph\")\n",
    "plt.legend()\n",
    "\n",
    "plt.show()"
   ]
  },
  {
   "cell_type": "code",
   "execution_count": 108,
   "id": "756f9f77",
   "metadata": {
    "scrolled": true
   },
   "outputs": [
    {
     "name": "stdout",
     "output_type": "stream",
     "text": [
      "Enter the coefficient of x^2: 10\n",
      "Enter the coefficient of x: 4\n",
      "Enter the constant: 1\n",
      "Enter the minimum of x-range: -50\n",
      "Enter the maximum of x-range: 50\n"
     ]
    },
    {
     "data": {
      "image/png": "[encoded data removed]",
      "text/plain": [
       "<Figure size 432x288 with 1 Axes>"
      ]
     },
     "metadata": {
      "needs_background": "light"
     },
     "output_type": "display_data"
    }
   ],
   "source": [
    "import matplotlib.pyplot as plt\n",
    "import numpy as np\n",
    "\n",
    "def draw_graph(a=1, b=1, c=1, xmin=1, xmax=5):\n",
    "    X = np.arange(xmin,xmax,0.001)\n",
    "    Y = [(a*x**2 + b*x + c) for x in X]\n",
    "    \n",
    "    plt.plot(X, Y)             # 선 그래프 그리기\n",
    "    plt.grid()                 # grid표시\n",
    "    plt.xlabel('X-axis')       # X축 이름\n",
    "    plt.ylabel('Y-axis')       # Y축 이름\n",
    "    title = f'Linear graph: y={str(a)}x^2+{str(b)}x+{str(c)}'\n",
    "    plt.title(title)\n",
    "    plt.show()\n",
    "\n",
    "# y=ax^2 + bx + c\n",
    "a = float(input('Enter the coefficient of x^2: '))\n",
    "b = float(input('Enter the coefficient of x: '))\n",
    "c = float(input('Enter the constant: '))\n",
    "\n",
    "xmin = float(input('Enter the minimum of x-range: '))\n",
    "xmax = float(input('Enter the maximum of x-range: '))\n",
    "    \n",
    "draw_graph(a, b, c, xmin, xmax)\n"
   ]
  },
  {
   "cell_type": "markdown",
   "id": "e1a8b9a4",
   "metadata": {},
   "source": [
    "----------"
   ]
  },
  {
   "cell_type": "markdown",
   "id": "348501b7",
   "metadata": {},
   "source": [
    "## 1.3 경우의 수"
   ]
  },
  {
   "cell_type": "markdown",
   "id": "a100dd6d",
   "metadata": {},
   "source": [
    "### 1.합의 법칙"
   ]
  },
  {
   "cell_type": "markdown",
   "id": "bde718cb",
   "metadata": {},
   "source": [
    "### [실습] 예제1-10 경우의 수 구하기\n",
    "주사위를 두 번 던져서 나온 눈의 수의 합이 소수인 경우의 수 구하라."
   ]
  },
  {
   "cell_type": "markdown",
   "id": "ce7f0b5e",
   "metadata": {},
   "source": [
    "#### 소수판별 함수를 만들어서 사용"
   ]
  },
  {
   "cell_type": "code",
   "execution_count": 17,
   "id": "270129f5",
   "metadata": {
    "scrolled": true
   },
   "outputs": [
    {
     "name": "stdout",
     "output_type": "stream",
     "text": [
      "두 눈의 수의 합이 소수인 경우-> [(1, 1), (1, 2), (1, 4), (1, 6), (2, 1), (2, 3), (2, 5), (3, 2), (3, 4), (4, 1), (4, 3), (5, 2), (5, 6), (6, 1), (6, 5)]\n",
      "경우의 수->15\n"
     ]
    }
   ],
   "source": [
    "def is_prime_number(x):\n",
    "    # 1 not being a prime number, is ignored\n",
    "    if x > 1:\n",
    "        for i in range(2, x):\n",
    "             if (x % i) == 0:\n",
    "                return False\n",
    "        return True\n",
    "    else:\n",
    "         return False\n",
    "        \n",
    "\n",
    "d1 = list(range(1,7))\n",
    "d2 = list(range(1,7))\n",
    "d = list()\n",
    "\n",
    "for x in d1:\n",
    "    for y in d2:\n",
    "        if is_prime_number(x+y):\n",
    "            d.append((x,y))\n",
    "            \n",
    "print(f'두 눈의 수의 합이 소수인 경우-> {d}')\n",
    "print(f'경우의 수->{len(d)}')"
   ]
  },
  {
   "cell_type": "markdown",
   "id": "53a27fbc",
   "metadata": {},
   "source": [
    "#### sympy라이브러리의 isprime함수 사용"
   ]
  },
  {
   "cell_type": "code",
   "execution_count": 18,
   "id": "8b5f992e",
   "metadata": {},
   "outputs": [
    {
     "name": "stdout",
     "output_type": "stream",
     "text": [
      "두 눈의 수의 합이 소수인 경우-> [(1, 1), (1, 2), (1, 4), (1, 6), (2, 1), (2, 3), (2, 5), (3, 2), (3, 4), (4, 1), (4, 3), (5, 2), (5, 6), (6, 1), (6, 5)]\n",
      "경우의 수->15\n"
     ]
    }
   ],
   "source": [
    "import sympy\n",
    "\n",
    "d1 = list(range(1,7))\n",
    "d2 = list(range(1,7))\n",
    "\n",
    "d = [(x,y) for x in d1 for y in d2 if sympy.isprime(x+y)]\n",
    "\n",
    "print(f'두 눈의 수의 합이 소수인 경우-> {d}')\n",
    "print(f'경우의 수->{len(d)}')"
   ]
  },
  {
   "cell_type": "markdown",
   "id": "e53e0ead",
   "metadata": {},
   "source": [
    "### [실습] 4개 문자 A, B, C, D 나열하는 경우의 수\n",
    "- 반복(x) + 순서(O) : permutations()\n",
    "- 반복(x) + 순서(x) : combinations()\n",
    "- 반복(O) + 순서(O) : product( )\n",
    "- 반복(O) + 순서(x) : combinations_with_replacement()"
   ]
  },
  {
   "cell_type": "markdown",
   "id": "fc6a8663",
   "metadata": {},
   "source": [
    "#### 1. 4개의 문자를 서로 다르게 나열하는 방법의 수\n",
    "- 반복(x) + 순서(O) : permutations()"
   ]
  },
  {
   "cell_type": "code",
   "execution_count": 19,
   "id": "6cc416cf",
   "metadata": {},
   "outputs": [
    {
     "name": "stdout",
     "output_type": "stream",
     "text": [
      "순열 경우의 수: 24\n",
      "[('D', 'A', 'B', 'C'), ('D', 'A', 'C', 'B'), ('D', 'B', 'A', 'C'), ('D', 'B', 'C', 'A'), ('D', 'C', 'A', 'B'), ('D', 'C', 'B', 'A'), ('A', 'D', 'B', 'C'), ('A', 'D', 'C', 'B'), ('A', 'B', 'D', 'C'), ('A', 'B', 'C', 'D'), ('A', 'C', 'D', 'B'), ('A', 'C', 'B', 'D'), ('B', 'D', 'A', 'C'), ('B', 'D', 'C', 'A'), ('B', 'A', 'D', 'C'), ('B', 'A', 'C', 'D'), ('B', 'C', 'D', 'A'), ('B', 'C', 'A', 'D'), ('C', 'D', 'A', 'B'), ('C', 'D', 'B', 'A'), ('C', 'A', 'D', 'B'), ('C', 'A', 'B', 'D'), ('C', 'B', 'D', 'A'), ('C', 'B', 'A', 'D')]\n"
     ]
    }
   ],
   "source": [
    "import itertools\n",
    "\n",
    "S = {'A','B','C','D'}\n",
    "r = 4\n",
    "\n",
    "R = list(itertools.permutations(S, r))\n",
    "\n",
    "print(f'순열 경우의 수: {len(R)}')\n",
    "print(R)"
   ]
  },
  {
   "cell_type": "code",
   "execution_count": 80,
   "id": "24f3e586",
   "metadata": {
    "scrolled": true
   },
   "outputs": [
    {
     "name": "stdout",
     "output_type": "stream",
     "text": [
      "순열 경우의 수: 24\n"
     ]
    }
   ],
   "source": [
    "R = list(itertools.permutations('ABCD', 4))\n",
    "\n",
    "print(f'순열 경우의 수: {len(R)}')"
   ]
  },
  {
   "cell_type": "markdown",
   "id": "7c109251",
   "metadata": {},
   "source": [
    "#### 2. 4개 중 서로 다른 문자 2개 순서없이 나열하는 방법의 수\n",
    "- 반복(x) + 순서(x) : combinations()"
   ]
  },
  {
   "cell_type": "code",
   "execution_count": 20,
   "id": "725c1d80",
   "metadata": {},
   "outputs": [
    {
     "name": "stdout",
     "output_type": "stream",
     "text": [
      "조합 경우의 수: 6\n",
      "[('D', 'A'), ('D', 'B'), ('D', 'C'), ('A', 'B'), ('A', 'C'), ('B', 'C')]\n"
     ]
    }
   ],
   "source": [
    "import itertools\n",
    "\n",
    "S = {'A','B','C','D'}\n",
    "r = 2\n",
    "\n",
    "R = list(itertools.combinations(S, r))\n",
    "\n",
    "print(f'조합 경우의 수: {len(R)}')\n",
    "print(R)"
   ]
  },
  {
   "cell_type": "code",
   "execution_count": 22,
   "id": "4b509e7a",
   "metadata": {},
   "outputs": [
    {
     "name": "stdout",
     "output_type": "stream",
     "text": [
      "조합 경우의 수: 6\n",
      "[('A', 'B'), ('A', 'C'), ('A', 'D'), ('B', 'C'), ('B', 'D'), ('C', 'D')]\n"
     ]
    }
   ],
   "source": [
    "R = list(itertools.combinations('ABCD', r))\n",
    "\n",
    "print(f'조합 경우의 수: {len(R)}')\n",
    "print(R)"
   ]
  },
  {
   "cell_type": "code",
   "execution_count": null,
   "id": "14243ad9",
   "metadata": {},
   "outputs": [],
   "source": []
  }
 ],
 "metadata": {
  "kernelspec": {
   "display_name": "Python 3 (ipykernel)",
   "language": "python",
   "name": "python3"
  },
  "language_info": {
   "codemirror_mode": {
    "name": "ipython",
    "version": 3
   },
   "file_extension": ".py",
   "mimetype": "text/x-python",
   "name": "python",
   "nbconvert_exporter": "python",
   "pygments_lexer": "ipython3",
   "version": "3.8.10"
  }
 },
 "nbformat": 4,
 "nbformat_minor": 5
}
