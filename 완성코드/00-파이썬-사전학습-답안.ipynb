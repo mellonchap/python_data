{
 "cells": [
  {
   "cell_type": "markdown",
   "metadata": {},
   "source": [
    "# 파이썬기초 사전 테스트"
   ]
  },
  {
   "cell_type": "markdown",
   "metadata": {},
   "source": [
    "### 1.파이썬에서 사용되는 숫자의 데이터형이 아닌 것은? (2)\n",
    "\n",
    "① 정수(int) ② 부호없는 정수(unsigned int) ③ 실수(float) "
   ]
  },
  {
   "cell_type": "code",
   "execution_count": null,
   "metadata": {},
   "outputs": [],
   "source": [
    "int()\n",
    "str()\n",
    "bool()\n",
    "\n",
    "list()\n",
    "tuple()\n",
    "dict()\n",
    "set()"
   ]
  },
  {
   "cell_type": "markdown",
   "metadata": {},
   "source": [
    "### 2.다음에 나타난 파이썬 쉘 명령의 실행 결과는? (4)\n",
    "\n",
    "``` python\n",
    "a = 3 \n",
    "b = 20 \n",
    "c = b // a \n",
    "print(c) \n",
    "```\n",
    "\n",
    "① 6.6666666666666    ② 20    ③ 3     ④ 6"
   ]
  },
  {
   "cell_type": "code",
   "execution_count": 2,
   "metadata": {},
   "outputs": [
    {
     "name": "stdout",
     "output_type": "stream",
     "text": [
      "6\n"
     ]
    }
   ],
   "source": [
    "a = 3 \n",
    "b = 20 \n",
    "c = b // a \n",
    "print(c) "
   ]
  },
  {
   "cell_type": "markdown",
   "metadata": {},
   "source": [
    "### 3.다음에 나타난 파이썬 쉘 명령의 실행 결과는? (4)\n",
    "\n",
    "``` python\n",
    "a = '우리는 민족중흥의 역사적 사명을 띠고 이 땅에 태어났다.' \n",
    "a[3:12] \n",
    "```\n",
    "\n",
    "① '는 민족중흥의 역사’    ② '는 민족중흥의 역’ \n",
    "③ '민족중흥의 역사’       ④ ' 민족중흥의 역사'"
   ]
  },
  {
   "cell_type": "code",
   "execution_count": 3,
   "metadata": {},
   "outputs": [
    {
     "data": {
      "text/plain": [
       "' 민족중흥의 역사'"
      ]
     },
     "execution_count": 3,
     "metadata": {},
     "output_type": "execute_result"
    }
   ],
   "source": [
    "a = '우리는 민족중흥의 역사적 사명을 띠고 이 땅에 태어났다.' \n",
    "a[3:12] "
   ]
  },
  {
   "cell_type": "markdown",
   "metadata": {},
   "source": [
    "### 4.다음 중 문자열을 반복하는 데 사용되는 연산자는? (1)\n",
    "\n",
    "① *   ② //     ③ %     ④ +"
   ]
  },
  {
   "cell_type": "code",
   "execution_count": 5,
   "metadata": {},
   "outputs": [
    {
     "name": "stdout",
     "output_type": "stream",
     "text": [
      "333333333333333333333333333333\n"
     ]
    }
   ],
   "source": [
    "print('3' * 30)"
   ]
  },
  {
   "cell_type": "markdown",
   "metadata": {},
   "source": [
    "### 5.다음 중 결과 값이 다른 것은? (3)\n",
    "\n",
    "``` python\n",
    "① print(bool(\"\"))       ② print(bool([])) \n",
    "③ print(bool(\"False\"))  ④ print(bool(None))\n",
    "```"
   ]
  },
  {
   "cell_type": "code",
   "execution_count": 7,
   "metadata": {},
   "outputs": [
    {
     "name": "stdout",
     "output_type": "stream",
     "text": [
      "False\n",
      "False\n",
      "True\n",
      "False\n"
     ]
    }
   ],
   "source": [
    "print(bool(\"\"))       \n",
    "print(bool([]))\n",
    "print(bool(\"False\"))\n",
    "print(bool(None))"
   ]
  },
  {
   "cell_type": "markdown",
   "metadata": {},
   "source": [
    "### 6.다음 중 파이썬의 함수의 인수에 대한 설명이 잘못된 것 하나를 고르시오. (3)\n",
    "\n",
    "① 파이썬은 함수를 호출할 때 객체의 참조를 넘겨준다.<br>\n",
    "② 파이썬의 함수가 return 문 없이 종료하는 경우 None 객체를 반환 한다.<br>\n",
    "③ 파이썬의 함수 호출 시에는 반드시 인수를 넘겨주어야 한다.<br>\n",
    "④ 파이썬의 함수 자체를 다른 함수의 인수로 전달할 수 있다.<br>"
   ]
  },
  {
   "cell_type": "code",
   "execution_count": 11,
   "metadata": {},
   "outputs": [
    {
     "name": "stdout",
     "output_type": "stream",
     "text": [
      "2 + 9 = 11\n",
      "11\n"
     ]
    }
   ],
   "source": [
    "# 함수 호출 시 인수를 안넘겨줘도 된다.\n",
    "def 덧셈():\n",
    "    import random    \n",
    "    a = random.randint(1,10)\n",
    "    b = random.randint(1,10)\n",
    "    print(f'{a} + {b} = {a+b}')\n",
    "    return a + b\n",
    "\n",
    "def  뺄셈():\n",
    "    print()\n",
    "    \n",
    "print(덧셈( 뺄셈() ))"
   ]
  },
  {
   "cell_type": "markdown",
   "metadata": {},
   "source": [
    "### 7.다음은 리스트의 인덱스를 이용하여 리스트의 일부 요소를 화면에 출력하는 프로그램입니다. 프로그램의 실행 결과는? (3)\n",
    "\n",
    "``` python\n",
    "a = [37, 888, -273, 'kim', 'hwang', 66.77] \n",
    "print(a[2:4]) \n",
    "```\n",
    "\n",
    "① [37, 888]       ② [-273, 'kim', 'hwang', 66.77] <br>\n",
    "③ [-273, 'kim']   ④ [888, -273, 'kim', 'hwsnag']"
   ]
  },
  {
   "cell_type": "code",
   "execution_count": 12,
   "metadata": {},
   "outputs": [
    {
     "name": "stdout",
     "output_type": "stream",
     "text": [
      "[-273, 'kim']\n"
     ]
    }
   ],
   "source": [
    "a = [37, 888, -273, 'kim', 'hwang', 66.77]\n",
    "print(a[2:4])"
   ]
  },
  {
   "cell_type": "markdown",
   "metadata": {},
   "source": [
    "### 8.다음과 같이 test에 저장되어 있을 때 코드 실행 후 출력 값은? (3)\n",
    "\n",
    "``` python\n",
    "test = [['Kim','english',99],['Hong','math',88],['Park','history',55]] \n",
    "print(test[-2][1:-1]) \n",
    "```\n",
    "\n",
    "① 'math'   ② ['math, 88]     ③ ['math']     ④ 'history'"
   ]
  },
  {
   "cell_type": "code",
   "execution_count": 14,
   "metadata": {},
   "outputs": [
    {
     "name": "stdout",
     "output_type": "stream",
     "text": [
      "['math']\n"
     ]
    }
   ],
   "source": [
    "test = [['Kim','english',99],['Hong','math',88],['Park','history',55]]\n",
    "print(test[-2][1:-1])"
   ]
  },
  {
   "cell_type": "markdown",
   "metadata": {},
   "source": [
    "### 9.다음과 같이 test에 저장되어 있을 때 코드 실행 후 출력 값은? (1)\n",
    "\n",
    "``` python\n",
    "test = [['홍길동',11],['김철수',37],['유재석',48]] \n",
    "print(len(test))  \n",
    "```\n",
    "\n",
    "① 3   ② 6     ③ 22     ④ 11"
   ]
  },
  {
   "cell_type": "code",
   "execution_count": 15,
   "metadata": {
    "scrolled": true
   },
   "outputs": [
    {
     "name": "stdout",
     "output_type": "stream",
     "text": [
      "3\n"
     ]
    }
   ],
   "source": [
    "test = [['홍길동',11],['김철수',37],['유재석',48]]\n",
    "print(len(test))"
   ]
  },
  {
   "cell_type": "markdown",
   "metadata": {},
   "source": [
    "### 10.다음 코드 실행 후 출력값은? (3)\n"
   ]
  },
  {
   "cell_type": "code",
   "execution_count": 16,
   "metadata": {
    "scrolled": true
   },
   "outputs": [
    {
     "name": "stdout",
     "output_type": "stream",
     "text": [
      "[2, 4, 6, 8]\n"
     ]
    }
   ],
   "source": [
    "def multi_two(x):\n",
    "    return x*2\n",
    "result = map(multi_two,[1,2,3,4])\n",
    "print(list(result))"
   ]
  },
  {
   "cell_type": "markdown",
   "metadata": {},
   "source": [
    "### 11.다음과 같이 for를 이용한 반복문이 있을 때 코드 실행 후 출력 값은? (4)\n",
    "``` python\n",
    "a = []\n",
    "for k in range(1,7,2):\n",
    "    a.append(k)\n",
    "print(a[0],a[1],a[2])\n",
    "```\n",
    "\n",
    "\n",
    "① 1 7 2      ② 3 5 7    \n",
    "③ 2 4 6      ④ 1 3 5 "
   ]
  },
  {
   "cell_type": "code",
   "execution_count": 18,
   "metadata": {
    "scrolled": true
   },
   "outputs": [
    {
     "name": "stdout",
     "output_type": "stream",
     "text": [
      "1 3 5\n"
     ]
    }
   ],
   "source": [
    "a = []\n",
    "for k in range(1,7,2):\n",
    "    a.append(k)\n",
    "print(a[0],a[1],a[2])\n"
   ]
  },
  {
   "cell_type": "markdown",
   "metadata": {},
   "source": [
    "### 12.다음과 같이 학생들의 과목 점수가 score에 저장되어 있을 때 코드 실행 후 ‘Park’의 ‘영어’ 점수 80을 출력하기 위한 print()문은?  (2)"
   ]
  },
  {
   "cell_type": "markdown",
   "metadata": {},
   "source": [
    "``` python\n",
    "score = {'Kim':{'영어':90,'수학':92},\n",
    "         'Lee':{'영어':45,'수학':66},\n",
    "         'Park':{'영어':80,'수학':99}}\n",
    "\n",
    "① print(score('Park')('영어'))\n",
    "② print(score['Park']['영어'])\n",
    "③ print(score['Park']('영어'))\n",
    "④ print(score('Park')['영어'])\n",
    "```"
   ]
  },
  {
   "cell_type": "code",
   "execution_count": 22,
   "metadata": {},
   "outputs": [
    {
     "name": "stdout",
     "output_type": "stream",
     "text": [
      "80\n"
     ]
    }
   ],
   "source": [
    "score = {'Kim':{'영어':90,'수학':92},\n",
    "         'Lee':{'영어':45,'수학':66},\n",
    "         'Park':{'영어':80,'수학':99}}\n",
    "\n",
    "print(score['Park']['영어'])\n"
   ]
  },
  {
   "cell_type": "markdown",
   "metadata": {},
   "source": [
    "### 13.다음과 같이 round_number에 저장되어 있을 때 코드 실행 후 출력 값은? (1)\n",
    "\n",
    "``` python\n",
    "round_number = round(1.23456, 2) \n",
    "print(round_number) \n",
    "```\n",
    "\n",
    "① 1.23   ② 1.2     ③ 1.234     ④ 1"
   ]
  },
  {
   "cell_type": "code",
   "execution_count": 23,
   "metadata": {},
   "outputs": [
    {
     "name": "stdout",
     "output_type": "stream",
     "text": [
      "1.23\n"
     ]
    }
   ],
   "source": [
    "round_number = round(1.23456, 2)\n",
    "print(round_number)"
   ]
  },
  {
   "cell_type": "markdown",
   "metadata": {},
   "source": [
    "### 14.다음과 같이 list comprehension을 이용해 x에 저장되어 있을 때 코드 실행 후 출력 값은? (1)\n",
    "\n",
    "``` python\n",
    "x =[x**3 for x in range(4)] \n",
    "print(x) \n",
    "```\n",
    "\n",
    "\n",
    "① [0, 1, 8, 27]   ② [1, 8, 27, 64] <br>\n",
    "③ [0, 3, 6, 9]    ④ [3, 6, 9, 12]"
   ]
  },
  {
   "cell_type": "code",
   "execution_count": 24,
   "metadata": {
    "scrolled": true
   },
   "outputs": [
    {
     "name": "stdout",
     "output_type": "stream",
     "text": [
      "[0, 1, 8, 27]\n"
     ]
    }
   ],
   "source": [
    "x =[x**3 for x in range(4)]\n",
    "print(x)"
   ]
  },
  {
   "cell_type": "markdown",
   "metadata": {},
   "source": [
    "### 15.다음과 같이 lambda함수를 이용하여 y1, y2에 값이 저장되었을 때 코드 실행 후 출력되는 값은? (2)"
   ]
  },
  {
   "cell_type": "markdown",
   "metadata": {},
   "source": [
    "``` python\n",
    "list = [x*x for x in range(1,5,2)]\n",
    "\n",
    "def func(list):\n",
    "    return list[1]*10, list[0]\n",
    "\n",
    "f = lambda x :func([x[1],x[0]])\n",
    "y1, y2 = f(list)\n",
    "print(y1, y2)\n",
    "```\n",
    "\n",
    "① 90, 1   ② 10, 9\n",
    "③ 9, 10   ④ 1, 10"
   ]
  },
  {
   "cell_type": "code",
   "execution_count": 26,
   "metadata": {},
   "outputs": [
    {
     "name": "stdout",
     "output_type": "stream",
     "text": [
      "10 9\n"
     ]
    }
   ],
   "source": [
    "list = [x*x for x in range(1,5,2)]\n",
    "\n",
    "def func(list):\n",
    "    return list[1]*10, list[0]\n",
    "\n",
    "f = lambda x :func([x[1],x[0]])\n",
    "y1, y2 = f(list)\n",
    "print(y1, y2)"
   ]
  },
  {
   "cell_type": "markdown",
   "metadata": {},
   "source": [
    "------------------------------------------------------\n",
    "## 주관식(코드 작성)"
   ]
  },
  {
   "cell_type": "markdown",
   "metadata": {},
   "source": [
    "### 16. 키보드로 문장을 입력받아 거꾸로 출력하는 프로그램을 만들어 봅시다.\n",
    "``` python\n",
    ">>> 입력\n",
    "거꾸로\n",
    ">>> 출력\n",
    "로꾸거\n",
    "```"
   ]
  },
  {
   "cell_type": "code",
   "execution_count": 2,
   "metadata": {},
   "outputs": [
    {
     "name": "stdout",
     "output_type": "stream",
     "text": [
      "입력 : 거꾸로\n",
      "출력: 로꾸거\n"
     ]
    }
   ],
   "source": [
    "a = input('입력 ')\n",
    "print(f'출력 {a[::-1]}')    "
   ]
  },
  {
   "cell_type": "markdown",
   "metadata": {},
   "source": [
    "### 17.  1부터 100까지 3의 배수만 모두 더하는 코드를 작성하세요."
   ]
  },
  {
   "cell_type": "code",
   "execution_count": 5,
   "metadata": {},
   "outputs": [
    {
     "data": {
      "text/plain": [
       "1683"
      ]
     },
     "execution_count": 5,
     "metadata": {},
     "output_type": "execute_result"
    }
   ],
   "source": [
    "sum([i for i in range(1,101) if i%3==0])"
   ]
  },
  {
   "cell_type": "code",
   "execution_count": 1,
   "metadata": {},
   "outputs": [
    {
     "name": "stdout",
     "output_type": "stream",
     "text": [
      "1683\n"
     ]
    }
   ],
   "source": [
    "hap = 0\n",
    "for i in range(1,101):\n",
    "    if i%3==0:\n",
    "        hap += i   \n",
    "print(hap)"
   ]
  },
  {
   "cell_type": "markdown",
   "metadata": {},
   "source": [
    "### 18. 키보드로 공백으로 분리되는 두 숫자 a와 b를 입력받아, a의 b승을 구하는 코드를 작성하세요. (ex: 40 5 -->  40**5 )"
   ]
  },
  {
   "cell_type": "code",
   "execution_count": 18,
   "metadata": {},
   "outputs": [
    {
     "name": "stdout",
     "output_type": "stream",
     "text": [
      "두 숫자를 공백으로 구분하여 입력: 2 3\n",
      "a의 b승: 8\n"
     ]
    }
   ],
   "source": [
    "n = list(input(\"두 숫자를 공백으로 구분하여 입력: \").split())\n",
    "print(f'a의 b승: {int(n[0]) ** int(n[1])}')"
   ]
  },
  {
   "cell_type": "code",
   "execution_count": 19,
   "metadata": {},
   "outputs": [
    {
     "name": "stdout",
     "output_type": "stream",
     "text": [
      "두 숫자를 공백으로 구분하여 입력: 2 3\n",
      "a의 b승: 8 \n"
     ]
    }
   ],
   "source": [
    "n = list(map(int, input(\"두 숫자를 공백으로 구분하여 입력: \").split()))\n",
    "print(f'a의 b승: { n[0] ** n[1]} ')"
   ]
  },
  {
   "cell_type": "markdown",
   "metadata": {},
   "source": [
    "### 19. 다음과 같이 숫자를 입력받아 입력 숫자 만큼의 층을 이루는 별을 출력하는 코드를 작성하세요."
   ]
  },
  {
   "cell_type": "code",
   "execution_count": 30,
   "metadata": {
    "scrolled": true
   },
   "outputs": [
    {
     "name": "stdout",
     "output_type": "stream",
     "text": [
      "몇층 별?:6\n",
      "     *\n",
      "    ***\n",
      "   *****\n",
      "  *******\n",
      " *********\n",
      "***********\n"
     ]
    }
   ],
   "source": [
    "n = int(input('몇층 별?:'))\n",
    "\n",
    "for i in range(1,n+1):\n",
    "    for j in range(n-i):\n",
    "        print(' ', end='')\n",
    "    for j in range(1,i*2,1):\n",
    "        print('*', end='')\n",
    "    print()"
   ]
  },
  {
   "cell_type": "code",
   "execution_count": 10,
   "metadata": {},
   "outputs": [
    {
     "name": "stdout",
     "output_type": "stream",
     "text": [
      "몇층 별?:6\n",
      "     *     \n",
      "    ***    \n",
      "   *****   \n",
      "  *******  \n",
      " ********* \n",
      "***********\n"
     ]
    }
   ],
   "source": [
    "n = int(input('몇층 별?:'))\n",
    "for i in range(0,n):    \n",
    "    print( ('{:^{}}').format( ('*'*(i*2+1)), (n*2-1)) )"
   ]
  },
  {
   "cell_type": "code",
   "execution_count": 31,
   "metadata": {},
   "outputs": [
    {
     "name": "stdout",
     "output_type": "stream",
     "text": [
      "몇층 별?:6\n",
      "     *     \n",
      "    ***    \n",
      "   *****   \n",
      "  *******  \n",
      " ********* \n",
      "***********\n"
     ]
    }
   ],
   "source": [
    "n = int(input('몇층 별?:'))\n",
    "\n",
    "for i in range(0,n):    \n",
    "    print( f\"{'*'*(i*2+1):^{n*2-1}}\")\n",
    "  "
   ]
  },
  {
   "cell_type": "markdown",
   "metadata": {},
   "source": [
    "### 20. 1부터 10,000까지 7이라는 숫자가 총 몇번 나오는지를 계산하는 코드를 작성하세요.\n",
    "\n",
    "7이 포함되어 있는 숫자의 갯수를 카운팅 하는 것이 아니라 7이라는 숫자를 모두 카운팅 해야 한다. \n",
    "(※ 예를들어 7707은 3, 7777은 4로 카운팅 해야 함)"
   ]
  },
  {
   "cell_type": "code",
   "execution_count": 6,
   "metadata": {},
   "outputs": [
    {
     "data": {
      "text/plain": [
       "4000"
      ]
     },
     "execution_count": 6,
     "metadata": {},
     "output_type": "execute_result"
    }
   ],
   "source": [
    "sum([str(x).count('7') for x in range(1,10001)])\n"
   ]
  },
  {
   "cell_type": "code",
   "execution_count": 2,
   "metadata": {},
   "outputs": [
    {
     "data": {
      "text/plain": [
       "4000"
      ]
     },
     "execution_count": 2,
     "metadata": {},
     "output_type": "execute_result"
    }
   ],
   "source": [
    "str(list(range(1,10001))).count('7')"
   ]
  }
 ],
 "metadata": {
  "kernelspec": {
   "display_name": "Python 3 (ipykernel)",
   "language": "python",
   "name": "python3"
  },
  "language_info": {
   "codemirror_mode": {
    "name": "ipython",
    "version": 3
   },
   "file_extension": ".py",
   "mimetype": "text/x-python",
   "name": "python",
   "nbconvert_exporter": "python",
   "pygments_lexer": "ipython3",
   "version": "3.8.10"
  }
 },
 "nbformat": 4,
 "nbformat_minor": 4
}
