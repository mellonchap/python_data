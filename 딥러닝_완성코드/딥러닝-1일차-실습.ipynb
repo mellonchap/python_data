{
 "cells": [
  {
   "cell_type": "markdown",
   "id": "8b3af297",
   "metadata": {},
   "source": [
    "# 딥러닝"
   ]
  },
  {
   "cell_type": "markdown",
   "id": "2104f28c",
   "metadata": {},
   "source": [
    "## 1. 인공지능 역사\n",
    "\n",
    "### 퍼셉트론(Percepron) 파이썬으로 구현하기"
   ]
  },
  {
   "cell_type": "markdown",
   "id": "3237bcee",
   "metadata": {},
   "source": [
    "#### AND 게이트"
   ]
  },
  {
   "cell_type": "code",
   "execution_count": null,
   "id": "06797d76",
   "metadata": {},
   "outputs": [],
   "source": [
    "import numpy as np\n",
    "\n",
    "def AND(x1, x2):\n",
    "    x = np.array([x1, x2])\n",
    "    w = np.array([0.5, 0.5])\n",
    "    b = -0.7\n",
    "    tmp = np.sum(w*x) + b\n",
    "    if tmp <= 0:\n",
    "        return 0\n",
    "    else:\n",
    "        return 1\n",
    "\n",
    "for xs in [(0, 0), (1, 0), (0, 1), (1, 1)]:\n",
    "    y = AND(xs[0], xs[1])\n",
    "    print(str(xs) + \" -> \" + str(y))"
   ]
  },
  {
   "cell_type": "markdown",
   "id": "9e46fa3e",
   "metadata": {},
   "source": [
    "#### OR 게이트"
   ]
  },
  {
   "cell_type": "code",
   "execution_count": null,
   "id": "48f633da",
   "metadata": {},
   "outputs": [],
   "source": [
    "def OR(x1, x2):\n",
    "    x = np.array([x1, x2])\n",
    "    w = np.array([0.5, 0.5])\n",
    "    b = -0.2\n",
    "    tmp = np.sum(w*x) + b\n",
    "    if tmp <= 0:\n",
    "        return 0\n",
    "    else:\n",
    "        return 1\n",
    "\n",
    "for xs in [(0, 0), (1, 0), (0, 1), (1, 1)]:\n",
    "    y = OR(xs[0], xs[1])\n",
    "    print(str(xs) + \" -> \" + str(y))"
   ]
  },
  {
   "cell_type": "markdown",
   "id": "81d60fd2",
   "metadata": {},
   "source": [
    "#### NAND 게이트"
   ]
  },
  {
   "cell_type": "code",
   "execution_count": null,
   "id": "a2d1fdb0",
   "metadata": {},
   "outputs": [],
   "source": [
    "def NAND(x1, x2):\n",
    "    x = np.array([x1, x2])\n",
    "    w = np.array([-0.5, -0.5])\n",
    "    b = 0.7\n",
    "    tmp = np.sum(w*x) + b\n",
    "    if tmp <= 0:\n",
    "        return 0\n",
    "    else:\n",
    "        return 1\n",
    "\n",
    "for xs in [(0, 0), (1, 0), (0, 1), (1, 1)]:\n",
    "    y = NAND(xs[0], xs[1])\n",
    "    print(str(xs) + \" -> \" + str(y))"
   ]
  },
  {
   "cell_type": "markdown",
   "id": "b930177a",
   "metadata": {},
   "source": [
    "#### MLP(Multi-layer Perceptron)"
   ]
  },
  {
   "cell_type": "code",
   "execution_count": null,
   "id": "a2eaccc3",
   "metadata": {},
   "outputs": [],
   "source": [
    "def XOR(x1, x2):\n",
    "    s1 = NAND(x1, x2)\n",
    "    s2 = OR(x1, x2)\n",
    "    y = AND(s1, s2)\n",
    "    return y\n",
    "\n",
    "for xs in [(0, 0), (1, 0), (0, 1), (1, 1)]:\n",
    "    y = XOR(xs[0], xs[1])\n",
    "    print(str(xs) + \" -> \" + str(y))"
   ]
  },
  {
   "cell_type": "markdown",
   "id": "183c176e",
   "metadata": {},
   "source": [
    "### Neural Network 구현하기\n",
    "- 자세한 코드 참고하기\n",
    " - https://wikibook.co.kr/dl-vision/\n",
    " - https://github.com/wikibook/dl-vision "
   ]
  },
  {
   "cell_type": "code",
   "execution_count": 6,
   "id": "75f31e12",
   "metadata": {},
   "outputs": [
    {
     "name": "stdout",
     "output_type": "stream",
     "text": [
      "x : [[0.37454012 0.95071431 0.73199394]]\n",
      "self.W : [ 0.19731697 -0.68796272 -0.68801096]\n",
      "self.b : [-0.88383278]\n",
      "out : 0\n"
     ]
    }
   ],
   "source": [
    "import numpy as np\n",
    "\n",
    "class Neuron(object):\n",
    "    def __init__(self, num_inputs, activation_function):\n",
    "        super().__init__()\n",
    "\n",
    "        self.W = np.random.uniform(size=num_inputs, low=-1., high=1.)\n",
    "        self.b = np.random.uniform(size=1, low=-1., high=1.)\n",
    "        print(f'self.W : {self.W}')\n",
    "        print(f'self.b : {self.b}')\n",
    "\n",
    "        self.activation_function = activation_function\n",
    "\n",
    "    def forward(self, x):\n",
    "        z = np.dot(x, self.W) + self.b\n",
    "        return self.activation_function(z)\n",
    "\n",
    "\n",
    "np.random.seed(42)      # Fixing the seed for the random number generation, to get reproducable results.\n",
    "x = np.random.rand(3).reshape(1, 3)   # Random input column array of 3 values (shape = `(1, 3)`)\n",
    "print(f'x : {x}')\n",
    "\n",
    "step_function = lambda y: 0 if y <= 0 else 1\n",
    "\n",
    "perceptron = Neuron(num_inputs=x.size, activation_function=step_function)\n",
    "\n",
    "out = perceptron.forward(x)\n",
    "print(f'out : {out}')\n"
   ]
  },
  {
   "cell_type": "markdown",
   "id": "f8aa1693",
   "metadata": {},
   "source": [
    "-------"
   ]
  },
  {
   "cell_type": "markdown",
   "id": "98e70c54",
   "metadata": {},
   "source": [
    "## 2.CNN(Convolution Neural Networks)"
   ]
  },
  {
   "cell_type": "markdown",
   "id": "9ab453e2",
   "metadata": {},
   "source": [
    "### Convolution : 합성곱 연산 "
   ]
  },
  {
   "cell_type": "code",
   "execution_count": null,
   "id": "65a13822",
   "metadata": {},
   "outputs": [],
   "source": [
    "import numpy as np\n",
    "\n",
    "# input array\n",
    "m = np.array([[1,2,2,0],[0,1,2,3],[1,0,1,2],[2,3,0,1]])\n",
    "# convolution kernel(==filter,mask)\n",
    "f = np.array([[0,0,0],[0,1,0],[0,0,0]])\n",
    "# output\n",
    "result = []\n",
    "mx, my = np.shape(m)\n",
    "fx, fy = np.shape(f)\n",
    "print(f'mx, my : {mx, my}')\n",
    "print(f'fx, fy : {fx, fy}')\n",
    "\n",
    "for i in range(mx-fx+1):\n",
    "    for j in range(my-fy+1):\n",
    "        result.append((m[i:i+fy, j:j+fy] * f).sum())\n",
    "        \n",
    "result=np.array(result).reshape(2,2)        \n",
    "print(result)"
   ]
  },
  {
   "cell_type": "markdown",
   "id": "0cfdc2cd",
   "metadata": {},
   "source": [
    "### OpenCV를 이용한 Convolution 예제"
   ]
  },
  {
   "cell_type": "markdown",
   "id": "3f5a46f1",
   "metadata": {},
   "source": [
    "#### OpenCV 라이브러리 설치하기"
   ]
  },
  {
   "cell_type": "code",
   "execution_count": null,
   "id": "d3c0f25a",
   "metadata": {},
   "outputs": [],
   "source": [
    "!pip install opencv-python"
   ]
  },
  {
   "cell_type": "code",
   "execution_count": null,
   "id": "8c682c2b",
   "metadata": {},
   "outputs": [],
   "source": [
    "import cv2\n",
    "cv2.__version__"
   ]
  },
  {
   "cell_type": "markdown",
   "id": "15e6ce95",
   "metadata": {},
   "source": [
    "#### Bluring : 영상을 부드럽게"
   ]
  },
  {
   "cell_type": "code",
   "execution_count": null,
   "id": "5aa87b78",
   "metadata": {},
   "outputs": [],
   "source": [
    "import sys\n",
    "import numpy as np\n",
    "import cv2\n",
    "\n",
    "src = cv2.imread('opencv/images/lenna.bmp', cv2.IMREAD_GRAYSCALE)\n",
    "\n",
    "if src is None:\n",
    "    print('Image load failed!')\n",
    "    sys.exit()\n",
    "\n",
    "# 부드럽게\n",
    "# mask = np.array([[1/9,1/9,1/9],\n",
    "#                 [1/9,1/9,1/9],\n",
    "#                 [1/9,1/9,1/9]])\n",
    "# mask = np.ones((3,3), dtype=np.float64)/ 9.\n",
    "\n",
    "# 날카롭게\n",
    "mask = np.array([[0,-1,0],\n",
    "                [-1,5,-1],\n",
    "                [0,-1,0]])\n",
    "dst = cv2.filter2D(src, -1, mask)\n",
    "\n",
    "cv2.imshow('src', src)\n",
    "cv2.imshow('dst', dst)\n",
    "cv2.waitKey()\n",
    "cv2.destroyAllWindows()"
   ]
  },
  {
   "cell_type": "markdown",
   "id": "8d6d2025",
   "metadata": {},
   "source": [
    "#### Noise cancling잡음제거"
   ]
  },
  {
   "cell_type": "code",
   "execution_count": null,
   "id": "f589347f",
   "metadata": {},
   "outputs": [],
   "source": [
    "src = cv2.imread('opencv/images/lenna_noise.bmp', cv2.IMREAD_GRAYSCALE)\n",
    "\n",
    "cv2.imshow('src', src)\n",
    "for i in range(3, 8, 2):\n",
    "    dst = cv2.medianBlur(src, i)\n",
    "    cv2.imshow(f'dst{i}', dst)\n",
    "cv2.waitKey()\n",
    "cv2.destroyAllWindows()"
   ]
  },
  {
   "cell_type": "markdown",
   "id": "cbbd92a3",
   "metadata": {},
   "source": [
    "#### 에지 검출"
   ]
  },
  {
   "cell_type": "code",
   "execution_count": null,
   "id": "9f1381bb",
   "metadata": {},
   "outputs": [],
   "source": [
    "src = cv2.imread('opencv/images/lenna.bmp', cv2.IMREAD_GRAYSCALE)\n",
    "\n",
    "dx = cv2.Sobel(src, -1, 1, 0, delta=128)\n",
    "dy = cv2.Sobel(src, -1, 0, 1, delta=128)\n",
    "cv2.imshow('src', src)\n",
    "cv2.imshow('dx', dx)\n",
    "cv2.imshow('dy', dy)\n",
    "cv2.waitKey()\n",
    "cv2.destroyAllWindows()"
   ]
  },
  {
   "cell_type": "code",
   "execution_count": null,
   "id": "8e02895a",
   "metadata": {},
   "outputs": [],
   "source": [
    "# Canny 에지 검출\n",
    "src = cv2.imread('opencv/images/lenna.bmp', cv2.IMREAD_GRAYSCALE)\n",
    "\n",
    "dst = cv2.Canny(src, 50, 150)\n",
    "\n",
    "cv2.imshow('src', src)\n",
    "cv2.imshow('dst', dst)\n",
    "cv2.waitKey()\n",
    "cv2.destroyAllWindows()"
   ]
  },
  {
   "cell_type": "markdown",
   "id": "9bc9b253",
   "metadata": {},
   "source": [
    "### [실습] 실시간 카툰 필터 만들기"
   ]
  },
  {
   "cell_type": "code",
   "execution_count": 1,
   "id": "833ed204",
   "metadata": {},
   "outputs": [
    {
     "name": "stdout",
     "output_type": "stream",
     "text": [
      "Video Finish!\n"
     ]
    }
   ],
   "source": [
    "import sys\n",
    "import cv2\n",
    "\n",
    "def cartoon_filter(img):\n",
    "    h, w = img.shape[:2]\n",
    "    img2 = cv2.resize(img, (w//2, h//2))\n",
    "\n",
    "    blr = cv2.bilateralFilter(img2, -1, 20, 7)\n",
    "    edge = 255 - cv2.Canny(img2, 80, 120)\n",
    "    edge = cv2.cvtColor(edge, cv2.COLOR_GRAY2BGR)\n",
    "\n",
    "    dst = cv2.bitwise_and(blr, edge)\n",
    "    dst = cv2.resize(dst, (w, h), interpolation=cv2.INTER_NEAREST)\n",
    "    return dst\n",
    "\n",
    "\n",
    "def pencil_sketch_filter(img):\n",
    "    gray = cv2.cvtColor(img, cv2.COLOR_BGR2GRAY)\n",
    "    blr = cv2.GaussianBlur(gray, (0, 0), 3)\n",
    "    dst = cv2.divide(gray, blr, scale=255)\n",
    "    return dst\n",
    "\n",
    "# 실시간 카메라 작동\n",
    "cap = cv2.VideoCapture(0)\n",
    "if not cap.isOpened():\n",
    "    print('Video open failed!')\n",
    "    sys.exit()\n",
    "\n",
    "cam_mode = 0    \n",
    "while True:\n",
    "    ret, frame = cap.read()\n",
    "    if not ret:\n",
    "        print('Video read failed!')\n",
    "        break\n",
    "    \n",
    "    # 모드에 따라 필터 적용한 영상(frame) 보여주기\n",
    "    if cam_mode == 1:\n",
    "        frame = cartoon_filter(frame)\n",
    "        title = 'cartoon_filter'\n",
    "    elif cam_mode ==2:\n",
    "        frame = pencil_sketch_filter(frame)\n",
    "        title = 'pencil_sketch_filter'\n",
    "    else:\n",
    "        title = ''\n",
    "        \n",
    "    cv2.putText(frame, title, (30, 30),\n",
    "            cv2.FONT_HERSHEY_DUPLEX, 1, \n",
    "             (255,0,255), 2, cv2.LINE_AA)\n",
    "    cv2.imshow('frame', frame)\n",
    "    \n",
    "    key = cv2.waitKey(1)\n",
    "    if key==27: # ESC키 눌러졌을 때\n",
    "        break\n",
    "    elif key==ord(' '): #스페이스키 눌러졌을 때\n",
    "        cam_mode += 1\n",
    "        if cam_mode==3:\n",
    "            cam_mode = 0\n",
    "    \n",
    "cap.release()\n",
    "cv2.destroyAllWindows()\n",
    "print('Video Finish!')"
   ]
  },
  {
   "cell_type": "markdown",
   "id": "2ade0172",
   "metadata": {},
   "source": [
    "--------"
   ]
  },
  {
   "cell_type": "markdown",
   "id": "6a35b1ec",
   "metadata": {},
   "source": [
    "## 3.Tensorflow"
   ]
  },
  {
   "cell_type": "markdown",
   "id": "da87e86b",
   "metadata": {},
   "source": [
    "### Tensorflow 설치하기"
   ]
  },
  {
   "cell_type": "code",
   "execution_count": null,
   "id": "e685722a",
   "metadata": {},
   "outputs": [],
   "source": [
    "!pip install tensorflow==2.3"
   ]
  },
  {
   "cell_type": "code",
   "execution_count": 9,
   "id": "b6842b7b",
   "metadata": {
    "collapsed": true
   },
   "outputs": [
    {
     "name": "stdout",
     "output_type": "stream",
     "text": [
      "Package                           Version\n",
      "--------------------------------- -------------------\n",
      "absl-py                           0.13.0\n",
      "Adafruit-Blinka                   6.15.0\n",
      "adafruit-circuitpython-busdevice  5.1.1\n",
      "adafruit-circuitpython-motor      3.3.1\n",
      "adafruit-circuitpython-pca9685    3.3.9\n",
      "adafruit-circuitpython-register   1.9.6\n",
      "adafruit-circuitpython-servokit   1.3.6\n",
      "Adafruit-PlatformDetect           3.17.2\n",
      "Adafruit-PureIO                   1.1.9\n",
      "anytree                           2.8.0\n",
      "argon2-cffi                       20.1.0\n",
      "astroid                           2.4.2\n",
      "astunparse                        1.6.3\n",
      "async-generator                   1.10\n",
      "attrs                             21.2.0\n",
      "backcall                          0.2.0\n",
      "beautifulsoup4                    4.10.0\n",
      "bleach                            3.3.0\n",
      "branca                            0.4.2\n",
      "cachetools                        4.2.2\n",
      "certifi                           2021.5.30\n",
      "cffi                              1.14.5\n",
      "chardet                           4.0.0\n",
      "click                             8.0.3\n",
      "cloudpickle                       2.0.0\n",
      "colorama                          0.4.4\n",
      "common                            0.1.2\n",
      "common-utils                      2.0.1.dev1\n",
      "cryptography                      35.0.0\n",
      "cvzone                            1.5.2\n",
      "cycler                            0.10.0\n",
      "debugpy                           1.3.0\n",
      "decorator                         5.0.9\n",
      "defusedxml                        0.7.1\n",
      "docker-pycreds                    0.4.0\n",
      "docopt                            0.6.2\n",
      "entrypoints                       0.3\n",
      "Flask                             2.0.2\n",
      "flatbuffers                       1.12\n",
      "folium                            0.12.1\n",
      "future                            0.18.2\n",
      "gast                              0.3.3\n",
      "gitdb                             4.0.9\n",
      "GitPython                         3.1.27\n",
      "google-api-core                   2.1.0\n",
      "google-api-python-client          2.25.0\n",
      "google-auth                       1.32.1\n",
      "google-auth-httplib2              0.1.0\n",
      "google-auth-oauthlib              0.4.6\n",
      "google-pasta                      0.2.0\n",
      "googleapis-common-protos          1.53.0\n",
      "grpcio                            1.34.1\n",
      "gym                               0.21.0\n",
      "h11                               0.12.0\n",
      "h5py                              2.10.0\n",
      "httplib2                          0.20.1\n",
      "idna                              2.10\n",
      "ipykernel                         6.0.1\n",
      "ipython                           7.25.0\n",
      "ipython-genutils                  0.2.0\n",
      "ipywidgets                        7.6.3\n",
      "iso8601                           0.1.16\n",
      "isort                             4.3.21\n",
      "itsdangerous                      2.0.1\n",
      "jedi                              0.18.0\n",
      "Jinja2                            3.0.1\n",
      "joblib                            1.0.1\n",
      "JPype1                            1.3.0\n",
      "jsonpickle                        2.0.0\n",
      "jsonschema                        3.2.0\n",
      "jupyter                           1.0.0\n",
      "jupyter-client                    6.1.12\n",
      "jupyter-console                   6.4.0\n",
      "jupyter-contrib-core              0.3.3\n",
      "jupyter-contrib-nbextensions      0.5.1\n",
      "jupyter-core                      4.7.1\n",
      "jupyter-highlight-selected-word   0.2.0\n",
      "jupyter-latex-envs                1.4.6\n",
      "jupyter-nbextensions-configurator 0.4.1\n",
      "jupyterlab-pygments               0.1.2\n",
      "jupyterlab-widgets                1.0.0\n",
      "Keras                             2.4.3\n",
      "keras-nightly                     2.5.0.dev2021032900\n",
      "Keras-Preprocessing               1.1.2\n",
      "kiwisolver                        1.3.1\n",
      "konlpy                            0.6.0\n",
      "lazy-object-proxy                 1.4.3\n",
      "lxml                              4.6.3\n",
      "Markdown                          3.3.4\n",
      "MarkupSafe                        2.0.1\n",
      "matplotlib                        3.4.2\n",
      "matplotlib-inline                 0.1.2\n",
      "mccabe                            0.6.1\n",
      "mediapipe                         0.8.8\n",
      "mistune                           0.8.4\n",
      "mpmath                            1.2.1\n",
      "nbclient                          0.5.3\n",
      "nbconvert                         5.6.1\n",
      "nbformat                          5.1.3\n",
      "nest-asyncio                      1.5.1\n",
      "networks                          0.3.7\n",
      "networkx                          2.6.3\n",
      "nltk                              3.6.5\n",
      "notebook                          6.4.0\n",
      "numpy                             1.18.5\n",
      "oauth2client                      4.1.3\n",
      "oauthlib                          3.1.1\n",
      "opencv-contrib-python             4.5.2.54\n",
      "opencv-python                     4.5.2.54\n",
      "opt-einsum                        3.3.0\n",
      "outcome                           1.1.0\n",
      "packaging                         21.3\n",
      "pafy                              0.5.5\n",
      "pandas                            1.3.0\n",
      "pandocfilters                     1.4.3\n",
      "parso                             0.8.2\n",
      "pathtools                         0.1.2\n",
      "patsy                             0.5.2\n",
      "pgmpy                             0.1.17\n",
      "pickleshare                       0.7.5\n",
      "Pillow                            8.3.1\n",
      "pip                               22.1\n",
      "prometheus-client                 0.11.0\n",
      "promise                           2.3\n",
      "prompt-toolkit                    3.0.19\n",
      "protobuf                          3.17.3\n",
      "psutil                            5.9.0\n",
      "pyasn1                            0.4.8\n",
      "pyasn1-modules                    0.2.8\n",
      "pycparser                         2.20\n",
      "pyftdi                            0.53.3\n",
      "pygame                            2.0.1\n",
      "pyglet                            1.5.21\n",
      "Pygments                          2.9.0\n",
      "pylint                            2.5.3\n",
      "pynput                            1.7.3\n",
      "pyOpenSSL                         21.0.0\n",
      "pyparsing                         2.4.7\n",
      "pyrsistent                        0.18.0\n",
      "pyserial                          3.5\n",
      "python-dateutil                   2.8.1\n",
      "pytz                              2021.1\n",
      "pyusb                             1.2.1\n",
      "pywin32                           301\n",
      "pywinpty                          1.1.3\n",
      "PyYAML                            5.4.1\n",
      "pyzmq                             22.1.0\n",
      "qtconsole                         5.1.1\n",
      "QtPy                              1.9.0\n",
      "quickdraw                         0.2.0\n",
      "regex                             2021.11.1\n",
      "requests                          2.25.1\n",
      "requests-oauthlib                 1.3.0\n",
      "rsa                               4.7.2\n",
      "scikit-learn                      1.0.1\n",
      "scipy                             1.4.1\n",
      "seaborn                           0.11.2\n",
      "selenium                          4.0.0\n",
      "Send2Trash                        1.7.1\n",
      "sentry-sdk                        1.5.12\n",
      "setproctitle                      1.2.3\n",
      "setuptools                        56.0.0\n",
      "shortuuid                         1.0.9\n",
      "six                               1.15.0\n",
      "sklearn                           0.0\n",
      "smmap                             5.0.0\n",
      "sniffio                           1.2.0\n",
      "sortedcontainers                  2.4.0\n",
      "soupsieve                         2.2.1\n",
      "statsmodels                       0.13.2\n",
      "stemgraphic                       0.9.1\n",
      "sympy                             1.9\n",
      "tensorboard                       2.5.0\n",
      "tensorboard-data-server           0.6.1\n",
      "tensorboard-plugin-wit            1.8.0\n",
      "tensorflow                        2.3.0\n",
      "tensorflow-estimator              2.3.0\n",
      "termcolor                         1.1.0\n",
      "terminado                         0.10.1\n",
      "testpath                          0.5.0\n",
      "threadpoolctl                     2.2.0\n",
      "toml                              0.10.1\n",
      "torch                             1.9.1\n",
      "torchvision                       0.10.1\n",
      "tornado                           6.1\n",
      "tqdm                              4.62.3\n",
      "traitlets                         5.0.5\n",
      "trio                              0.19.0\n",
      "trio-websocket                    0.9.2\n",
      "typing-extensions                 3.7.4.3\n",
      "uritemplate                       3.0.1\n",
      "urllib3                           1.26.6\n",
      "wandb                             0.12.16\n",
      "wcwidth                           0.2.5\n",
      "webencodings                      0.5.1\n",
      "Werkzeug                          2.0.1\n",
      "wheel                             0.36.2\n",
      "widgetsnbextension                3.5.1\n",
      "wordcloud                         1.8.1\n",
      "wrapt                             1.12.1\n",
      "wsproto                           1.0.0\n",
      "youtube-dl                        2021.6.6\n"
     ]
    }
   ],
   "source": [
    "!pip list"
   ]
  },
  {
   "cell_type": "markdown",
   "id": "77c04803",
   "metadata": {},
   "source": [
    "### Tensorflow 사용하기"
   ]
  },
  {
   "cell_type": "code",
   "execution_count": 7,
   "id": "03d968db",
   "metadata": {},
   "outputs": [
    {
     "data": {
      "text/plain": [
       "'2.3.0'"
      ]
     },
     "execution_count": 7,
     "metadata": {},
     "output_type": "execute_result"
    }
   ],
   "source": [
    "import tensorflow as tf\n",
    "\n",
    "tf.__version__"
   ]
  },
  {
   "cell_type": "markdown",
   "id": "e0323d95",
   "metadata": {},
   "source": [
    "### Tensorflow에서 Keras를 사용하는 방법"
   ]
  },
  {
   "cell_type": "code",
   "execution_count": null,
   "id": "8644ebe8",
   "metadata": {},
   "outputs": [],
   "source": [
    "# 방법1:\n",
    "import tensorflow as tf\n",
    "\n",
    "model = tf.keras.models.Sequential()\n",
    "\n",
    "\n",
    "# 방법2\n",
    "from tensorflow.keras.models import Sequential\n",
    "\n",
    "model = Sequential()"
   ]
  },
  {
   "cell_type": "markdown",
   "id": "bcce593b",
   "metadata": {},
   "source": [
    "### [실습] Tensorflow & keras를 이용하여 Multi-layered NN 구현하기"
   ]
  },
  {
   "cell_type": "markdown",
   "id": "4cf5c0bf",
   "metadata": {},
   "source": [
    "#### 신경망 모델 훈련 과정\n",
    "- 1. 학습 데이터 준비: (MNIST) \n",
    "https://www.tensorflow.org/api_docs/python/tf/keras/datasets "
   ]
  },
  {
   "cell_type": "code",
   "execution_count": 20,
   "id": "21a2e81f",
   "metadata": {
    "scrolled": true
   },
   "outputs": [
    {
     "name": "stdout",
     "output_type": "stream",
     "text": [
      "(60000, 28, 28)\n",
      "(10000, 28, 28)\n",
      "(28, 28)\n"
     ]
    },
    {
     "data": {
      "image/png": "[encoded data removed]",
      "text/plain": [
       "<Figure size 432x288 with 1 Axes>"
      ]
     },
     "metadata": {
      "needs_background": "light"
     },
     "output_type": "display_data"
    },
    {
     "data": {
      "image/png": "[encoded data removed]",
      "text/plain": [
       "<Figure size 432x288 with 1 Axes>"
      ]
     },
     "metadata": {
      "needs_background": "light"
     },
     "output_type": "display_data"
    }
   ],
   "source": [
    "# 1.학습 데이터 준비\n",
    "import tensorflow as tf\n",
    "\n",
    "mnist = tf.keras.datasets.mnist\n",
    "\n",
    "# MNIST 데이터 로딩하기\n",
    "(x_train,y_train),(x_test,y_test) = mnist.load_data()\n",
    "print(x_train.shape)\n",
    "print(x_test.shape)\n",
    "# print(x_train[0])\n",
    "print(x_train[0].shape)\n",
    "\n",
    "# MNIST 데이터 plotting\n",
    "import matplotlib.pyplot as plt\n",
    "# plt.imshow(x_train[0])\n",
    "plt.imshow(x_train[0],cmap='gray_r')\n",
    "plt.show()\n",
    "\n",
    "# MNIST 데이터 Flattening\n",
    "x_train, x_test = x_train/255.0, x_test/255.0\n",
    "\n",
    "import matplotlib.pyplot as plt\n",
    "plt.imshow(x_train[0],cmap='gray_r')\n",
    "plt.show()\n"
   ]
  },
  {
   "cell_type": "code",
   "execution_count": 21,
   "id": "ecc1d428",
   "metadata": {},
   "outputs": [
    {
     "data": {
      "text/plain": [
       "784"
      ]
     },
     "execution_count": 21,
     "metadata": {},
     "output_type": "execute_result"
    }
   ],
   "source": [
    "28*28"
   ]
  },
  {
   "cell_type": "markdown",
   "id": "f0871abb",
   "metadata": {},
   "source": [
    "- 2.신경망 모델 정의: tf.keras.models.Sequential()\n",
    "Flatten(28x28=784을 1차원 배열로 변환)"
   ]
  },
  {
   "cell_type": "code",
   "execution_count": 24,
   "id": "c6d414e4",
   "metadata": {},
   "outputs": [],
   "source": [
    "# 2.신경망 모델 정의\n",
    "# 방법1\n",
    "model = tf.keras.Sequential()\n",
    "model.add(tf.keras.layers.Flatten(input_shape=(28,28)))\n",
    "model.add(tf.keras.layers.Dense(128, activation='relu'))\n",
    "model.add(tf.keras.layers.Dropout(0.2))\n",
    "model.add(tf.keras.layers.Dense(10, activation='softmax'))\n",
    "\n",
    "# 방법2\n",
    "model = tf.keras.models.Sequential([\n",
    "    tf.keras.layers.Flatten(input_shape=(28,28)),\n",
    "    tf.keras.layers.Dense(128, activation='relu'),\n",
    "    tf.keras.layers.Dropout(0.2),\n",
    "    tf.keras.layers.Dense(10, activation='softmax')\n",
    "])\n"
   ]
  },
  {
   "cell_type": "markdown",
   "id": "22f20191",
   "metadata": {},
   "source": [
    "- 3.컴파일 과정 설정: optimizer='adam', loss=crossentry"
   ]
  },
  {
   "cell_type": "code",
   "execution_count": 25,
   "id": "ea2d4215",
   "metadata": {},
   "outputs": [],
   "source": [
    "# 3.컴파일 과정 설정\n",
    "model.compile(optimizer='adam',\n",
    "             loss='sparse_categorical_crossentropy',\n",
    "             metrics=['accuracy'])"
   ]
  },
  {
   "cell_type": "markdown",
   "id": "78d03acc",
   "metadata": {},
   "source": [
    "- 4.모델 훈련"
   ]
  },
  {
   "cell_type": "code",
   "execution_count": 29,
   "id": "c7d58c94",
   "metadata": {},
   "outputs": [
    {
     "name": "stdout",
     "output_type": "stream",
     "text": [
      "Epoch 1/5\n",
      "1875/1875 [==============================] - 4s 2ms/step - loss: 0.0272 - accuracy: 0.9905\n",
      "Epoch 2/5\n",
      "1875/1875 [==============================] - 4s 2ms/step - loss: 0.0261 - accuracy: 0.9905\n",
      "Epoch 3/5\n",
      "1875/1875 [==============================] - 4s 2ms/step - loss: 0.0216 - accuracy: 0.9926\n",
      "Epoch 4/5\n",
      "1875/1875 [==============================] - 4s 2ms/step - loss: 0.0235 - accuracy: 0.9916\n",
      "Epoch 5/5\n",
      "1875/1875 [==============================] - 4s 2ms/step - loss: 0.0217 - accuracy: 0.9925\n"
     ]
    },
    {
     "data": {
      "text/plain": [
       "<tensorflow.python.keras.callbacks.History at 0x1b35c8e9d00>"
      ]
     },
     "execution_count": 29,
     "metadata": {},
     "output_type": "execute_result"
    }
   ],
   "source": [
    "# 4.모델 훈련\n",
    "model.fit(x_train, y_train, epochs=5, verbose=1)"
   ]
  },
  {
   "cell_type": "markdown",
   "id": "c163557b",
   "metadata": {},
   "source": [
    "- 5.예측 및 평가"
   ]
  },
  {
   "cell_type": "code",
   "execution_count": 32,
   "id": "7fc537c5",
   "metadata": {},
   "outputs": [
    {
     "name": "stdout",
     "output_type": "stream",
     "text": [
      "313/313 [==============================] - 0s 1ms/step - loss: 0.0885 - accuracy: 0.9788\n",
      "Testing Accuracy: 97.88%\n"
     ]
    }
   ],
   "source": [
    "# 5.예측 및 평가\n",
    "loss, accuracy = model.evaluate(x_test, y_test)\n",
    "print(f'Testing Accuracy: {round(accuracy*100,2)}%')"
   ]
  },
  {
   "cell_type": "markdown",
   "id": "75b28fbe",
   "metadata": {},
   "source": [
    "- 그래프(loss/accuracy) 그려보기"
   ]
  },
  {
   "cell_type": "code",
   "execution_count": 37,
   "id": "c886106a",
   "metadata": {
    "collapsed": true
   },
   "outputs": [
    {
     "name": "stdout",
     "output_type": "stream",
     "text": [
      "1875/1875 [==============================] - 4s 2ms/step - loss: 0.0202 - accuracy: 0.9934\n",
      "313/313 [==============================] - 0s 1ms/step - loss: 0.0999 - accuracy: 0.9790\n",
      "313/313 [==============================] - 0s 1ms/step - loss: 0.0999 - accuracy: 0.9790\n",
      "1875/1875 [==============================] - 4s 2ms/step - loss: 0.0172 - accuracy: 0.9942\n",
      "313/313 [==============================] - 1s 2ms/step - loss: 0.1026 - accuracy: 0.9802\n",
      "313/313 [==============================] - 1s 2ms/step - loss: 0.1026 - accuracy: 0.9802\n",
      "1875/1875 [==============================] - 4s 2ms/step - loss: 0.0176 - accuracy: 0.9939\n",
      "313/313 [==============================] - 0s 1ms/step - loss: 0.1033 - accuracy: 0.9794\n",
      "313/313 [==============================] - 0s 1ms/step - loss: 0.1033 - accuracy: 0.9794\n",
      "1875/1875 [==============================] - 5s 3ms/step - loss: 0.0170 - accuracy: 0.9942: 0s - loss: 0.0170 - accuracy: 0.99\n",
      "313/313 [==============================] - 1s 2ms/step - loss: 0.1009 - accuracy: 0.9796\n",
      "313/313 [==============================] - 1s 2ms/step - loss: 0.1009 - accuracy: 0.9796\n",
      "1875/1875 [==============================] - 4s 2ms/step - loss: 0.0165 - accuracy: 0.9946\n",
      "313/313 [==============================] - 1s 2ms/step - loss: 0.1007 - accuracy: 0.9790\n",
      "313/313 [==============================] - 1s 2ms/step - loss: 0.1007 - accuracy: 0.9790\n",
      "1875/1875 [==============================] - 5s 2ms/step - loss: 0.0170 - accuracy: 0.9940\n",
      "313/313 [==============================] - 1s 2ms/step - loss: 0.1049 - accuracy: 0.9788\n",
      "313/313 [==============================] - 0s 1ms/step - loss: 0.1049 - accuracy: 0.9788\n",
      "1875/1875 [==============================] - 4s 2ms/step - loss: 0.0170 - accuracy: 0.9942\n",
      "313/313 [==============================] - 0s 1ms/step - loss: 0.1104 - accuracy: 0.9798\n",
      "313/313 [==============================] - 0s 1ms/step - loss: 0.1104 - accuracy: 0.9798: 0s - loss: 0.1696 - accu\n",
      "1875/1875 [==============================] - 4s 2ms/step - loss: 0.0168 - accuracy: 0.9944\n",
      "313/313 [==============================] - 0s 1ms/step - loss: 0.1077 - accuracy: 0.9800: 0s - loss: 0.1245 \n",
      "313/313 [==============================] - 0s 1ms/step - loss: 0.1077 - accuracy: 0.9800\n",
      "1875/1875 [==============================] - 5s 2ms/step - loss: 0.0151 - accuracy: 0.9945\n",
      "313/313 [==============================] - 0s 1ms/step - loss: 0.1080 - accuracy: 0.9791\n",
      "313/313 [==============================] - 0s 2ms/step - loss: 0.1080 - accuracy: 0.9791\n",
      "1875/1875 [==============================] - 5s 3ms/step - loss: 0.0143 - accuracy: 0.9951\n",
      "313/313 [==============================] - 1s 2ms/step - loss: 0.1110 - accuracy: 0.9791\n",
      "313/313 [==============================] - 0s 1ms/step - loss: 0.1110 - accuracy: 0.9791\n",
      "[0.0998644232749939, 0.10260885953903198, 0.10331844538450241, 0.10092845559120178, 0.10074387490749359, 0.10490000993013382, 0.11044973134994507, 0.10773804038763046, 0.10801603645086288, 0.11102629452943802]\n",
      "[0.9789999723434448, 0.9801999926567078, 0.9793999791145325, 0.9796000123023987, 0.9789999723434448, 0.9787999987602234, 0.9797999858856201, 0.9800000190734863, 0.9790999889373779, 0.9790999889373779]\n"
     ]
    }
   ],
   "source": [
    "loss, accuracy = [], []\n",
    "trycnt = list(range(10))\n",
    "for i in trycnt:\n",
    "    model.fit(x_train, y_train, epochs=1, verbose=1)\n",
    "    loss.append(model.evaluate(x_test, y_test)[0])\n",
    "    accuracy.append(model.evaluate(x_test, y_test)[1])\n",
    "\n",
    "print(loss)   \n",
    "print(accuracy)"
   ]
  },
  {
   "cell_type": "code",
   "execution_count": 40,
   "id": "b80d52fd",
   "metadata": {},
   "outputs": [
    {
     "data": {
      "image/png": "[encoded data removed]",
      "text/plain": [
       "<Figure size 432x288 with 2 Axes>"
      ]
     },
     "metadata": {
      "needs_background": "light"
     },
     "output_type": "display_data"
    }
   ],
   "source": [
    "fig, ax1 = plt.subplots()\n",
    "ax1.plot(trycnt, accuracy, label='accuracy', c='green')\n",
    "ax1.set_xlabel('epoch')\n",
    "ax1.set_ylabel('accuracy')\n",
    "ax1.legend()\n",
    "ax2 = ax1.twinx()\n",
    "ax2.plot(trycnt, loss, label='loss', c='red')\n",
    "ax2.set_ylabel('loss')\n",
    "ax2.legend()\n",
    "plt.show()"
   ]
  },
  {
   "cell_type": "code",
   "execution_count": 41,
   "id": "72617817",
   "metadata": {},
   "outputs": [
    {
     "name": "stdout",
     "output_type": "stream",
     "text": [
      "Model: \"sequential_2\"\n",
      "_________________________________________________________________\n",
      "Layer (type)                 Output Shape              Param #   \n",
      "=================================================================\n",
      "flatten_3 (Flatten)          (None, 784)               0         \n",
      "_________________________________________________________________\n",
      "dense_5 (Dense)              (None, 128)               100480    \n",
      "_________________________________________________________________\n",
      "dropout_2 (Dropout)          (None, 128)               0         \n",
      "_________________________________________________________________\n",
      "dense_6 (Dense)              (None, 10)                1290      \n",
      "=================================================================\n",
      "Total params: 101,770\n",
      "Trainable params: 101,770\n",
      "Non-trainable params: 0\n",
      "_________________________________________________________________\n"
     ]
    }
   ],
   "source": [
    "# 학습된 모델의 요약 정보\n",
    "model.summary()"
   ]
  },
  {
   "cell_type": "code",
   "execution_count": 42,
   "id": "43aa4213",
   "metadata": {},
   "outputs": [
    {
     "data": {
      "text/plain": [
       "True"
      ]
     },
     "execution_count": 42,
     "metadata": {},
     "output_type": "execute_result"
    }
   ],
   "source": [
    "model.trainable"
   ]
  },
  {
   "cell_type": "code",
   "execution_count": 43,
   "id": "0732003c",
   "metadata": {
    "collapsed": true
   },
   "outputs": [
    {
     "data": {
      "text/plain": [
       "[<tf.Variable 'dense_5/kernel:0' shape=(784, 128) dtype=float32, numpy=\n",
       " array([[ 0.03238641, -0.03992572,  0.04991055, ...,  0.05916967,\n",
       "          0.02377454, -0.07064185],\n",
       "        [ 0.04979076,  0.06923404, -0.0661085 , ...,  0.00892364,\n",
       "         -0.05464988, -0.04078314],\n",
       "        [-0.06119046,  0.00315742, -0.05007455, ..., -0.0439156 ,\n",
       "         -0.01731028, -0.0452692 ],\n",
       "        ...,\n",
       "        [ 0.05248772, -0.01163725, -0.08074009, ..., -0.02977708,\n",
       "          0.01914117, -0.06827375],\n",
       "        [ 0.03928537, -0.07925914,  0.07872538, ...,  0.02741506,\n",
       "          0.01131457,  0.00378472],\n",
       "        [ 0.02111915,  0.04443479,  0.0583845 , ..., -0.01141449,\n",
       "         -0.00309628, -0.06168904]], dtype=float32)>,\n",
       " <tf.Variable 'dense_5/bias:0' shape=(128,) dtype=float32, numpy=\n",
       " array([-0.04577921, -0.34710237, -0.29664075, -0.3622076 , -0.43294182,\n",
       "         0.08783269, -0.06770349, -0.20994657, -0.31473175, -0.13244952,\n",
       "        -0.25292352,  0.17775345, -0.0836177 , -0.12104016, -0.13361716,\n",
       "        -0.1286989 , -0.2581761 , -0.4584881 ,  0.03498194, -0.388649  ,\n",
       "        -0.6174958 , -0.03985725, -0.130637  ,  0.05874319, -0.60507095,\n",
       "         0.01116758,  0.06546107,  0.18804424, -0.1496471 , -0.5254673 ,\n",
       "        -0.23722766, -0.30686343, -0.2741027 ,  0.30138117, -0.52702487,\n",
       "        -0.00945585, -0.5713224 , -0.13690107, -0.13219398, -0.5521639 ,\n",
       "         0.30011162,  0.05988289,  0.09554702,  0.2440873 , -0.69323736,\n",
       "        -0.34556884,  0.13176402, -0.14645068, -0.1419084 , -0.47328502,\n",
       "        -0.10635272, -0.18353222, -0.6150694 ,  0.20563897,  0.44218934,\n",
       "        -0.00526713,  0.131305  , -0.49585536,  0.0990499 , -0.07390957,\n",
       "         0.13650072, -0.264068  , -0.06507381, -0.54057854, -0.33762857,\n",
       "        -0.03243336, -0.02925278, -0.15869106, -0.7296214 , -0.02592262,\n",
       "         0.20704837, -0.07404519,  0.24524415,  0.09310843, -0.30568895,\n",
       "         0.0859061 , -0.20990635, -0.19595999,  0.6066605 ,  0.07004465,\n",
       "        -0.17514652, -0.683663  , -0.05980154, -0.6711462 ,  0.16800183,\n",
       "        -0.11497254, -0.13920337,  0.14947723, -0.00093108, -0.65732294,\n",
       "        -0.19244146, -0.62727743, -0.0904689 , -0.1389501 , -0.07432864,\n",
       "        -0.02985686,  0.15273371, -0.2133482 ,  0.03949718, -0.30679256,\n",
       "        -0.6660757 ,  0.38960215, -0.13071582,  0.07676417, -0.18725301,\n",
       "        -0.325273  ,  0.01923636,  0.3004217 , -0.30497572, -0.02324359,\n",
       "        -0.7046994 , -0.21727026, -0.20019598, -0.17467922,  0.36716747,\n",
       "         0.00856964, -0.18163978,  0.11852172, -0.3670609 , -0.07414805,\n",
       "        -0.23855785, -0.26664615,  0.02966593,  0.1047301 , -0.00574898,\n",
       "        -0.49441484, -0.03042283, -0.2830048 ], dtype=float32)>,\n",
       " <tf.Variable 'dense_6/kernel:0' shape=(128, 10) dtype=float32, numpy=\n",
       " array([[-0.8420538 ,  0.48099884,  0.44076285, ..., -1.2373852 ,\n",
       "         -0.9752662 , -0.62610716],\n",
       "        [-0.5370428 , -0.2621959 , -0.02640665, ...,  0.14513451,\n",
       "          0.31374022,  0.20596933],\n",
       "        [-1.2322302 ,  0.17776138, -0.5184056 , ..., -0.19399835,\n",
       "          0.15991235,  0.12935261],\n",
       "        ...,\n",
       "        [-1.0176271 , -1.1561546 , -0.44518694, ..., -0.46428403,\n",
       "          0.22002092,  0.1141379 ],\n",
       "        [ 0.06513813, -0.9037724 ,  0.43631265, ...,  0.16982271,\n",
       "          0.4408909 ,  0.05508038],\n",
       "        [ 0.1476222 ,  0.05946872, -0.35500234, ..., -1.4943525 ,\n",
       "         -0.043171  , -0.7843291 ]], dtype=float32)>,\n",
       " <tf.Variable 'dense_6/bias:0' shape=(10,) dtype=float32, numpy=\n",
       " array([ 0.30959713, -0.02042507, -0.6269576 , -0.1301733 , -0.00459761,\n",
       "        -0.6321331 , -0.20712511, -0.50502473,  1.3470324 ,  0.24181782],\n",
       "       dtype=float32)>]"
      ]
     },
     "execution_count": 43,
     "metadata": {},
     "output_type": "execute_result"
    }
   ],
   "source": [
    "# 학습된 파라미터 정보\n",
    "model.weights  "
   ]
  }
 ],
 "metadata": {
  "kernelspec": {
   "display_name": "Python 3 (ipykernel)",
   "language": "python",
   "name": "python3"
  },
  "language_info": {
   "codemirror_mode": {
    "name": "ipython",
    "version": 3
   },
   "file_extension": ".py",
   "mimetype": "text/x-python",
   "name": "python",
   "nbconvert_exporter": "python",
   "pygments_lexer": "ipython3",
   "version": "3.8.10"
  }
 },
 "nbformat": 4,
 "nbformat_minor": 5
}
